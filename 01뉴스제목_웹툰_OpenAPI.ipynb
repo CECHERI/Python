{
 "cells": [
  {
   "cell_type": "markdown",
   "id": "eb0bfa44",
   "metadata": {},
   "source": [
    "## 1. 뉴스제목 가져오기\n",
    "* user-agent 요청헤더를 반드시 설정해야 한다."
   ]
  },
  {
   "cell_type": "code",
   "execution_count": 9,
   "id": "f0d27781",
   "metadata": {},
   "outputs": [
    {
     "name": "stdout",
     "output_type": "stream",
     "text": [
      "Name: requests\n",
      "Version: 2.32.3\n",
      "Summary: Python HTTP for Humans.\n",
      "Home-page: https://requests.readthedocs.io\n",
      "Author: Kenneth Reitz\n",
      "Author-email: me@kennethreitz.org\n",
      "License: Apache-2.0\n",
      "Location: c:\\Users\\user\\anaconda3\\Lib\\site-packages\n",
      "Requires: certifi, charset-normalizer, idna, urllib3\n",
      "Required-by: aext-assistant-server, anaconda-catalogs, anaconda-client, anaconda-cloud-auth, anaconda-project, conda, conda-build, conda-repo-cli, conda_package_streaming, cookiecutter, datashader, jupyterlab_server, panel, requests-file, requests-toolbelt, Sphinx, streamlit, tldextract\n",
      "Note: you may need to restart the kernel to use updated packages.\n"
     ]
    }
   ],
   "source": [
    "# requests 라이브러리 설치여부 확인\n",
    "%pip show requests"
   ]
  },
  {
   "cell_type": "code",
   "execution_count": 10,
   "id": "f7798ea8",
   "metadata": {},
   "outputs": [
    {
     "name": "stdout",
     "output_type": "stream",
     "text": [
      "Name: beautifulsoup4\n",
      "Version: 4.12.3\n",
      "Summary: Screen-scraping library\n",
      "Home-page: https://www.crummy.com/software/BeautifulSoup/bs4/\n",
      "Author: \n",
      "Author-email: Leonard Richardson <leonardr@segfault.org>\n",
      "License: MIT License\n",
      "Location: c:\\Users\\user\\anaconda3\\Lib\\site-packages\n",
      "Requires: soupsieve\n",
      "Required-by: conda-build, nbconvert\n",
      "Note: you may need to restart the kernel to use updated packages.\n"
     ]
    }
   ],
   "source": [
    "# beautifulsoup4 라이브러리 설치여부 확인\n",
    "%pip show beautifulsoup4\n"
   ]
  },
  {
   "cell_type": "code",
   "execution_count": 11,
   "id": "bf80a429",
   "metadata": {},
   "outputs": [],
   "source": [
    "# reqeusts, bs4 import\n",
    "import requests\n",
    "import bs4\n",
    "# BeautifulSoup 클래스 import\n",
    "from bs4 import BeautifulSoup"
   ]
  },
  {
   "cell_type": "code",
   "execution_count": 12,
   "id": "9788d6ac",
   "metadata": {},
   "outputs": [
    {
     "name": "stdout",
     "output_type": "stream",
     "text": [
      "requests 버전 2.32.3\n",
      "beautifulsoup4 버전 4.12.3\n"
     ]
    }
   ],
   "source": [
    "# requests, bs4 버전 확인하기\n",
    "print(f'requests 버전 {requests.__version__}')\n",
    "print(f'beautifulsoup4 버전 {bs4.__version__}')"
   ]
  },
  {
   "cell_type": "markdown",
   "id": "5941b664",
   "metadata": {},
   "source": []
  },
  {
   "cell_type": "markdown",
   "id": "ccb91def-cde3-4aeb-b0e5-2e7233500333",
   "metadata": {},
   "source": [
    "### 1. 뉴스 제목 추출하기"
   ]
  },
  {
   "cell_type": "code",
   "execution_count": null,
   "id": "94c12fd6",
   "metadata": {},
   "outputs": [
    {
     "name": "stdout",
     "output_type": "stream",
     "text": [
      "https://news.naver.com/section/105\n"
     ]
    },
    {
     "ename": "NameError",
     "evalue": "name 'ur2' is not defined",
     "output_type": "error",
     "traceback": [
      "\u001b[1;31m---------------------------------------------------------------------------\u001b[0m",
      "\u001b[1;31mNameError\u001b[0m                                 Traceback (most recent call last)",
      "Cell \u001b[1;32mIn[29], line 16\u001b[0m\n\u001b[0;32m     11\u001b[0m req_header \u001b[38;5;241m=\u001b[39m {\n\u001b[0;32m     12\u001b[0m     \u001b[38;5;124m\"\u001b[39m\u001b[38;5;124muser-agent\u001b[39m\u001b[38;5;124m\"\u001b[39m: \u001b[38;5;124m\"\u001b[39m\u001b[38;5;124mMozilla/5.0 (Windows NT 10.0; Win64; x64) AppleWebKit/537.36 (KHTML, like Gecko) Chrome/104.0.0.0 Safari/537.36\u001b[39m\u001b[38;5;124m\"\u001b[39m\n\u001b[0;32m     13\u001b[0m }\n\u001b[0;32m     15\u001b[0m \u001b[38;5;66;03m# requests 의 get() 함수 호출하기\u001b[39;00m\n\u001b[1;32m---> 16\u001b[0m res \u001b[38;5;241m=\u001b[39m requests\u001b[38;5;241m.\u001b[39mget(ur2, headers\u001b[38;5;241m=\u001b[39mreq_header)\n\u001b[0;32m     17\u001b[0m \u001b[38;5;28mprint\u001b[39m(re2)\n\u001b[0;32m     18\u001b[0m \u001b[38;5;28mprint\u001b[39m(\u001b[38;5;28mtype\u001b[39m(res2))\n",
      "\u001b[1;31mNameError\u001b[0m: name 'ur2' is not defined"
     ]
    }
   ],
   "source": [
    "# IT/과학 뉴스\n",
    "req_param = {\"sid\": 105}\n",
    "#\n",
    "url = \"https://news.naver.com/section/{sid}\".format(**req_param)\n",
    "print(url)\n",
    "\n",
    "#과제\n",
    "url2 = 'https://news.daum.net/economy'\n",
    "\n",
    "# 요청 헤더 설정 : 브라우저 정보 (사람처럼 보이게 하려고 설정하는 것임)\n",
    "req_header = {\n",
    "    \"user-agent\": \"Mozilla/5.0 (Windows NT 10.0; Win64; x64) AppleWebKit/537.36 (KHTML, like Gecko) Chrome/104.0.0.0 Safari/537.36\"\n",
    "}\n",
    "\n",
    "# requests 의 get() 함수 호출하기\n",
    "res = requests.get(url2, headers=req_header)\n",
    "print(res)\n",
    "print(type(res))\n",
    "print(res.status_code, res.ok)\n",
    "\n",
    "# 응답(response)이 OK 이면\n",
    "if res.ok:\n",
    "    # 응답 (response)에서 text 추출 - source 보기\n",
    "    html = res.text\n",
    "    # BeautifulSoup 객체 생성\n",
    "    soup = BeautifulSoup(html, \"html.parser\")\n",
    "    # print(soup)\n",
    "    # CSS 선택자\n",
    "    # <div class='sa_text'><a href=''></a></div>\n",
    "    print(len(soup.select(\"div.sa_text a[href*='mnews/article']\")))\n",
    "    a_tag_list = soup.select(\"div.sa_text a[href*='mnews/article']\")\n",
    "    print(\n",
    "        type(a_tag_list)\n",
    "    )  # [<a href=\"http://\">뉴스제목</a>] ResultSet객체 , <a></a> : Tag 객체\n",
    "    for a_tag in a_tag_list:\n",
    "        # print(type(a_tag))\n",
    "        title = a_tag.text.strip()\n",
    "        # href 속성의 값을 가져오기\n",
    "        link = a_tag[\"href\"]\n",
    "        print(link, title)\n",
    "else:\n",
    "    # 응답(response)이 Error 이면 status code 출력\n",
    "    print(f\"에러 코드 = {res.status_code}\")\n"
   ]
  },
  {
   "cell_type": "markdown",
   "id": "45640860-a449-4285-90d7-5f300292b461",
   "metadata": {},
   "source": [
    "### 1.1 뉴스제목 추출하는 함수 선언하기"
   ]
  },
  {
   "cell_type": "code",
   "execution_count": 28,
   "id": "9f2e4ef8",
   "metadata": {},
   "outputs": [
    {
     "name": "stdout",
     "output_type": "stream",
     "text": [
      "=====> https://news.naver.com/section/101 경제 뉴스 <=====\n",
      "<Response [200]>\n",
      "<class 'requests.models.Response'>\n",
      "200 True\n",
      "92\n",
      "<class 'bs4.element.ResultSet'>\n",
      "https://n.news.naver.com/mnews/article/009/0005472185 현대차, 한림대의료원과 로봇 친화병원 구축협약\n",
      "https://n.news.naver.com/mnews/article/comment/009/0005472185 \n",
      "https://n.news.naver.com/mnews/article/014/0005332898 \"농기계로 재건 지원\" 대동, 우크라 농업부와 맞손\n",
      "https://n.news.naver.com/mnews/article/comment/014/0005332898 \n",
      "https://n.news.naver.com/mnews/article/088/0000940778 윤석열 정부, 작년 재정적자 105조…나랏빚 1175조 돌파\n",
      "https://n.news.naver.com/mnews/article/comment/088/0000940778 \n",
      "https://n.news.naver.com/mnews/article/277/0005574692 삼성중공업, 수에즈막스급 원유운반선 4척 수주…4778억원 규모\n",
      "https://n.news.naver.com/mnews/article/comment/277/0005574692 \n",
      "https://n.news.naver.com/mnews/article/001/0015317954 농식품장관 \"민관 '원팀' 이뤄 미국 상호관세 파고 넘을것\"\n",
      "https://n.news.naver.com/mnews/article/comment/001/0015317954 \n",
      "https://n.news.naver.com/mnews/article/008/0005177536 해진공, 인공지능 전환 통해 혁신 추진…\"글로벌 표준 선도 기관될 것\"\n",
      "https://n.news.naver.com/mnews/article/comment/008/0005177536 \n",
      "https://n.news.naver.com/mnews/article/020/0003626556 통상본부장 내일 방미… USTR 대표 만나 관세 협의\n",
      "https://n.news.naver.com/mnews/article/comment/020/0003626556 \n",
      "https://n.news.naver.com/mnews/article/022/0004025880 \"경영권 승계 의혹 불식\"…한화에어로, 유상증자 3.6조→2.3조 축소\n",
      "https://n.news.naver.com/mnews/article/comment/022/0004025880 \n",
      "https://n.news.naver.com/mnews/article/437/0000436338 삼성전자 1분기 영업이익 6.6조…전망치 크게 웃돌아\n",
      "https://n.news.naver.com/mnews/article/comment/437/0000436338 \n",
      "https://n.news.naver.com/mnews/article/366/0001067413 홈플러스-서울우유 납품 대금 정산 갈등… ‘협력 절실’ vs ‘사실 왜곡’\n",
      "https://n.news.naver.com/mnews/article/comment/366/0001067413 \n",
      "https://n.news.naver.com/mnews/article/422/0000729049 코스피, 소폭 반등 그쳐…환율, 금융위기 후 최고\n",
      "https://n.news.naver.com/mnews/article/comment/422/0000729049 \n",
      "https://n.news.naver.com/mnews/article/008/0005177578 폭풍 지나간 증시...협상진전? 보복관세? 촉각 세우는 투자자들\n",
      "https://n.news.naver.com/mnews/article/comment/008/0005177578 \n",
      "https://n.news.naver.com/mnews/article/015/0005116583 관세전쟁에 얻어맞은 원화…또 글로벌 금융위기 이후 '최고' [한경 외환시장 워치]\n",
      "https://n.news.naver.com/mnews/article/comment/015/0005116583 \n",
      "https://n.news.naver.com/mnews/article/020/0003626831 한화에어로, 유상증자 비판에 “규모 3.6조→2.3조 축소”\n",
      "https://n.news.naver.com/mnews/article/comment/020/0003626831 \n",
      "https://n.news.naver.com/mnews/article/003/0013171321 '현대가 3세' 정대선 66억 대지, 경매 유찰로 34억까지 하락\n",
      "https://n.news.naver.com/mnews/article/comment/003/0013171321 \n",
      "https://n.news.naver.com/mnews/article/024/0000096213 노벨상 수상자 “트럼프 완전히 미친 것 같다 ”\n",
      "https://n.news.naver.com/mnews/article/comment/024/0000096213 \n",
      "https://n.news.naver.com/mnews/article/008/0005177577 카드사, '육아휴직' 첫 성적표 보니… 男 10명 중 1명도 못(?)쓰네\n",
      "https://n.news.naver.com/mnews/article/comment/008/0005177577 \n",
      "https://n.news.naver.com/mnews/article/001/0015317987 '관세 우려와 실적 사이' 코스피 소폭 반등해 2,330대 마감(종합)\n",
      "https://n.news.naver.com/mnews/article/comment/001/0015317987 \n",
      "https://n.news.naver.com/mnews/article/586/0000100939 10개 사니 더 비싸다?…온라인쇼핑몰 '묶음상품'의 배신\n",
      "https://n.news.naver.com/mnews/article/comment/586/0000100939 \n",
      "https://n.news.naver.com/mnews/article/081/0003531761 [서울데이터랩]마감 직후 인기 검색 종목 20選\n",
      "https://n.news.naver.com/mnews/article/comment/081/0003531761 \n",
      "https://n.news.naver.com/mnews/article/031/0000922860 한화에어로, \"뼈저리게 반성\"...유증 규모 축소\n",
      "https://n.news.naver.com/mnews/article/comment/031/0000922860 \n",
      "https://n.news.naver.com/mnews/article/001/0015317977 원/달러 환율 금융위기 후 최고 수준…증시는 소폭 반등\n",
      "https://n.news.naver.com/mnews/article/comment/001/0015317977 \n",
      "https://n.news.naver.com/mnews/article/008/0005177573 '관세 104%?' 반격 나서는 중국, 미국 서비스업 수출도 정조준\n",
      "https://n.news.naver.com/mnews/article/comment/008/0005177573 \n",
      "https://n.news.naver.com/mnews/article/018/0005982560 美, 무역협상 대표로 재무장관 지명…제2의 플라자합의 나오나\n",
      "https://n.news.naver.com/mnews/article/comment/018/0005982560 \n",
      "https://n.news.naver.com/mnews/article/052/0002177221 코스피, 폭락 후 반등...환율은 금융위기 이후 최고\n",
      "https://n.news.naver.com/mnews/article/comment/052/0002177221 \n",
      "https://n.news.naver.com/mnews/article/022/0004026002 “미국·일본 여행 미뤄야하나”…관세쇼크에 원화 ‘뚝’\n",
      "https://n.news.naver.com/mnews/article/comment/022/0004026002 \n",
      "https://n.news.naver.com/mnews/article/648/0000035141 증시 '패닉셀 후폭풍' 바닥은 어디…자산운용업계, 긴급 점검\n",
      "https://n.news.naver.com/mnews/article/comment/648/0000035141 \n",
      "https://n.news.naver.com/mnews/article/417/0001069525 \"매각 앞두고 몸값 불리나\"… KFC 10개월 만에 또 가격 인상 '눈총'\n",
      "https://n.news.naver.com/mnews/article/comment/417/0001069525 \n",
      "https://n.news.naver.com/mnews/article/417/0001069524 \"내공도 쌓았다\"… 기술반환, 전화위복 계기로 삼는 K제약\n",
      "https://n.news.naver.com/mnews/article/comment/417/0001069524 \n",
      "https://n.news.naver.com/mnews/article/469/0000858340 1분기 반가운 성적표 받은 삼성전자...'트럼프 관세' 충격 흡수 숙제 받았다\n",
      "https://n.news.naver.com/mnews/article/comment/469/0000858340 \n",
      "https://n.news.naver.com/mnews/article/366/0001067670 표류하는 서린컴퍼니 매각… 지난해 영업익 반토막\n",
      "https://n.news.naver.com/mnews/article/comment/366/0001067670 \n",
      "https://n.news.naver.com/mnews/article/055/0001247454 [D리포트] 삼성 1분기 영업익 6.6조…어닝 서프라이즈 속 불안한 속내\n",
      "https://n.news.naver.com/mnews/article/comment/055/0001247454 \n",
      "https://n.news.naver.com/mnews/article/417/0001069522 원/달러 환율 주간 종가 1473.2원… 금융위기 이후 최고\n",
      "https://n.news.naver.com/mnews/article/comment/417/0001069522 \n",
      "https://n.news.naver.com/mnews/article/003/0013171273 [인터뷰] 조성현 온라인쇼핑협회 회장 \"티메프·발란 파장, 규제가 본질적 해결책 아냐\"\n",
      "https://n.news.naver.com/mnews/article/comment/003/0013171273 \n",
      "https://n.news.naver.com/mnews/article/028/0002739871 전세계 시장서 밀리는 K-배터리…약진하는 BYD\n",
      "https://n.news.naver.com/mnews/article/comment/028/0002739871 \n",
      "https://n.news.naver.com/mnews/article/214/0001416841 한국은행 \"임금 조정 없는 정년 연장, 부작용 반복‥퇴직 후 재고용해야\"\n",
      "https://n.news.naver.com/mnews/article/comment/214/0001416841 \n",
      "https://n.news.naver.com/mnews/article/008/0005177570 \"시장, 이성 잃었다\" 삼성전자에 개인 매수, 외인·기관 매도\n",
      "https://n.news.naver.com/mnews/article/comment/008/0005177570 \n",
      "https://n.news.naver.com/mnews/article/008/0005177569 순식간에 '10조 패닉셀' 외인…\"지금 최고의 주식\" OO은 샀다\n",
      "https://n.news.naver.com/mnews/article/comment/008/0005177569 \n",
      "https://n.news.naver.com/mnews/article/079/0004011490 코스피, 상승폭 반납 0.26%↑마감…환율 금융위기 이후 최고점\n",
      "https://n.news.naver.com/mnews/article/comment/079/0004011490 \n",
      "https://n.news.naver.com/mnews/article/648/0000035140 삼성전자, '갤S25' 날개 달고 깜짝 실적 거뒀다\n",
      "https://n.news.naver.com/mnews/article/comment/648/0000035140 \n",
      "https://n.news.naver.com/mnews/article/001/0015317941 한화에어로 주주배정 유증 축소에 9%↑…방산·조선株 동반 강세(종합)\n",
      "https://n.news.naver.com/mnews/article/comment/001/0015317941 \n",
      "https://n.news.naver.com/mnews/article/008/0005177568 변동성 장세에도 정치 테마주 훨훨…빚내서 달려든 개미들\n",
      "https://n.news.naver.com/mnews/article/comment/008/0005177568 \n",
      "https://n.news.naver.com/mnews/article/008/0005177567 급락에 버틴 '경기방어주' 통신주, 성장주로 변신 가능할까\n",
      "https://n.news.naver.com/mnews/article/comment/008/0005177567 \n",
      "https://n.news.naver.com/mnews/article/421/0008180771 환율 관세전쟁 쇼크…달러당 1473.2원, 금융위기 이후 16년만에 최고(종합)\n",
      "https://n.news.naver.com/mnews/article/comment/421/0008180771 \n",
      "https://n.news.naver.com/mnews/article/014/0005332975 美 재계 '큰손'들, 트럼프 관세 정책 맹비난 \"헛소리\"\n",
      "https://n.news.naver.com/mnews/article/comment/014/0005332975 \n",
      "https://n.news.naver.com/mnews/article/014/0005332974 소프트센, 中소천과기에 초박형 태양광 유리·BIPV 모듈 핵심장비 공급 추진\n",
      "https://n.news.naver.com/mnews/article/comment/014/0005332974 \n"
     ]
    }
   ],
   "source": [
    "import requests\n",
    "from bs4 import BeautifulSoup\n",
    "\n",
    "section_dict = {\n",
    "    100: \"정치\",\n",
    "    101: \"경제\",\n",
    "    102: \"사회\",\n",
    "    103: \"생활/문화\",\n",
    "    104: \"세계\",\n",
    "    105: \"IT/과학\",\n",
    "}\n",
    "\n",
    "\n",
    "def print_news(sid):  # print_new(103)\n",
    "    section = section_dict[sid]\n",
    "    url = f\"https://news.naver.com/section/{sid}\"\n",
    "    print(f\"=====> {url} {section} 뉴스 <=====\")\n",
    "\n",
    "    # 요청 헤더 설정 : 브라우저 정보 (사람처럼 보이게 하려고 설정하는 것임)\n",
    "    req_header = {\n",
    "        \"user-agent\": \"Mozilla/5.0 (Windows NT 10.0; Win64; x64) AppleWebKit/537.36 (KHTML, like Gecko) Chrome/104.0.0.0 Safari/537.36\"\n",
    "    }\n",
    "\n",
    "    # requests 의 get() 함수 호출하기\n",
    "    res = requests.get(url, headers=req_header)\n",
    "    print(res)\n",
    "    print(type(res))\n",
    "    print(res.status_code, res.ok)\n",
    "\n",
    "    # 응답(response)이 OK 이면\n",
    "    if res.ok:\n",
    "        # 응답 (response)에서 text 추출 - source 보기\n",
    "        html = res.text\n",
    "        # BeautifulSoup 객체 생성\n",
    "        soup = BeautifulSoup(html, \"html.parser\")\n",
    "        \n",
    "        print(len(soup.select(\"div.sa_text a[href*='mnews/article']\")))\n",
    "        a_tag_list = soup.select(\"div.sa_text a[href*='mnews/article']\")    \n",
    "        print(type(a_tag_list))  # [<a href=\"http://\">뉴스제목</a>] ResultSet객체 , <a></a> : Tag 객체\n",
    "        \n",
    "        for a_tag in a_tag_list:\n",
    "            # print(type(a_tag))\n",
    "            title = a_tag.text.strip()\n",
    "            # href 속성의 값을 가져오기\n",
    "            link = a_tag[\"href\"]\n",
    "            print(link, title)\n",
    "    else:\n",
    "        # 응답(response)이 Error 이면 status code 출력\n",
    "        print(f\"에러 코드 = {res.status_code}\")\n",
    "\n",
    "# 함수호출\n",
    "print_news(101)"
   ]
  },
  {
   "cell_type": "code",
   "execution_count": 15,
   "id": "858952c6",
   "metadata": {},
   "outputs": [],
   "source": [
    "print_news(103,section_dict[103])"
   ]
  },
  {
   "cell_type": "markdown",
   "id": "323196dc",
   "metadata": {},
   "source": [
    "### 2. Image 다운로드\n",
    "* referer 요청 헤더를 반드시 설정해야 한다."
   ]
  },
  {
   "cell_type": "code",
   "execution_count": 16,
   "id": "c72d6cb1",
   "metadata": {},
   "outputs": [],
   "source": [
    "import requests\n",
    "import os\n",
    "\n",
    "req_header = {\n",
    "    'referer':''\n",
    "}\n",
    "\n",
    "img_urls = [\n",
    "    'https://image-comic.pstatic.net/webtoon/798173/5/20220804112251_d97bd1e1b38f0cd022e4e3639d2926b3_IMAG01_1.jpg',\n",
    "    'https://image-comic.pstatic.net/webtoon/798173/5/20220804112251_d97bd1e1b38f0cd022e4e3639d2926b3_IMAG01_2.jpg',\n",
    "    'https://image-comic.pstatic.net/webtoon/798173/5/20220804112251_d97bd1e1b38f0cd022e4e3639d2926b3_IMAG01_3.jpg'\n",
    "]\n",
    "\n",
    "for img_url in img_urls:\n",
    "    pass\n",
    "    # requests 의 get(url, headers) 함수 호출하기 \n",
    "        \n",
    "        # binary 응답 데이터 가져오기\n",
    "        \n",
    "        # url에서 파일명만 추출하기\n",
    "        \n",
    "        # binday data를 file에 write하기\n"
   ]
  },
  {
   "cell_type": "markdown",
   "id": "e8b00a04",
   "metadata": {},
   "source": [
    "* 현재 요청된 페이지의 image 모두 다운로드 해보기"
   ]
  },
  {
   "cell_type": "code",
   "execution_count": null,
   "id": "b30f7bf5",
   "metadata": {},
   "outputs": [],
   "source": []
  },
  {
   "cell_type": "markdown",
   "id": "2ac9f5f9",
   "metadata": {},
   "source": [
    "### 3. 파일 업로드 하기\n",
    "* http://httpbin.org/post 업로드 요청을 할 수 있는 url"
   ]
  },
  {
   "cell_type": "code",
   "execution_count": 17,
   "id": "04da4790",
   "metadata": {},
   "outputs": [],
   "source": [
    "import requests\n",
    "\n",
    "upload_files = {\n",
    "    \n",
    "}\n",
    "#print(upload_files)\n",
    "\n",
    "url = 'http://httpbin.org/post'\n",
    "# file 업로드 하려면 requests의 post 함수에 files 속성을 사용합니다.\n",
    "\n"
   ]
  },
  {
   "cell_type": "markdown",
   "id": "7ad65f12",
   "metadata": {},
   "source": [
    "### 4. 캡챠(이미지) API 호출하기\n",
    "* urllib 사용\n",
    "* 1. 캡차 키 발급 요청\n",
    "  2. 캡차 이미지 요청\n",
    "  3. 사용자 입력값 검증 요청"
   ]
  },
  {
   "cell_type": "code",
   "execution_count": 18,
   "id": "bc4ae360-e772-4873-8642-d3494edd34e1",
   "metadata": {},
   "outputs": [],
   "source": [
    "# 캡차 키 발급 요청\n"
   ]
  },
  {
   "cell_type": "code",
   "execution_count": 19,
   "id": "7b95b6a0-c218-4792-82a6-da4d80872071",
   "metadata": {},
   "outputs": [],
   "source": [
    "# 캡차 이미지 요청\n"
   ]
  },
  {
   "cell_type": "code",
   "execution_count": 20,
   "id": "a79076af-2cd0-4de2-8301-316b9130c55e",
   "metadata": {},
   "outputs": [],
   "source": [
    "#  사용자 입력값 검증 요청\n",
    "\n"
   ]
  },
  {
   "cell_type": "markdown",
   "id": "b7d984a6",
   "metadata": {},
   "source": [
    "* requests를 사용하는 코드로 변경하기\n",
    "* [requests docs](https://requests.readthedocs.io/en/latest/user/quickstart/)"
   ]
  },
  {
   "cell_type": "code",
   "execution_count": 21,
   "id": "727b427b",
   "metadata": {
    "scrolled": true
   },
   "outputs": [],
   "source": [
    "# 사용자 입력값 검증 요청\n",
    "\n"
   ]
  },
  {
   "cell_type": "markdown",
   "id": "d5e1179a",
   "metadata": {},
   "source": [
    "### 5. 블로그 검색하기"
   ]
  },
  {
   "cell_type": "code",
   "execution_count": 22,
   "id": "877d0c7f",
   "metadata": {},
   "outputs": [],
   "source": [
    "import requests\n",
    "import pprint\n",
    "\n",
    "headers = {\n",
    "    'X-Naver-Client-Id': '',\n",
    "    'X-Naver-Client-Secret': '',\n",
    "}\n",
    "\n",
    "payload = {\n",
    "    'query': '파이썬',\n",
    "    'display': 100,\n",
    "    'sort': 'sim'\n",
    "}\n",
    "\n",
    "url = 'https://openapi.naver.com/v1/search/blog.json'\n",
    "\n",
    "\n",
    "# requests get(url, params, headers) 요청 \n",
    "\n",
    "# json() 함수로 응답 결과 가져오오기\n",
    "# 'title' , 'bloggername' , 'description' , 'bloggerlink' , 'link'\n",
    "\n",
    "# 'data/nhnblog.txt' 파일 생성하기\n"
   ]
  }
 ],
 "metadata": {
  "kernelspec": {
   "display_name": "base",
   "language": "python",
   "name": "python3"
  },
  "language_info": {
   "codemirror_mode": {
    "name": "ipython",
    "version": 3
   },
   "file_extension": ".py",
   "mimetype": "text/x-python",
   "name": "python",
   "nbconvert_exporter": "python",
   "pygments_lexer": "ipython3",
   "version": "3.12.7"
  }
 },
 "nbformat": 4,
 "nbformat_minor": 5
}
