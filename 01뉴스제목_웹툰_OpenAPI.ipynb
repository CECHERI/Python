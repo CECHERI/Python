{
 "cells": [
  {
   "cell_type": "markdown",
   "id": "eb0bfa44",
   "metadata": {},
   "source": [
    "## 1. 뉴스제목 가져오기\n",
    "* user-agent 요청헤더를 반드시 설정해야 한다."
   ]
  },
  {
   "cell_type": "code",
   "execution_count": 9,
   "id": "f0d27781",
   "metadata": {},
   "outputs": [
    {
     "name": "stdout",
     "output_type": "stream",
     "text": [
      "Name: requests\n",
      "Version: 2.32.3\n",
      "Summary: Python HTTP for Humans.\n",
      "Home-page: https://requests.readthedocs.io\n",
      "Author: Kenneth Reitz\n",
      "Author-email: me@kennethreitz.org\n",
      "License: Apache-2.0\n",
      "Location: c:\\Users\\user\\anaconda3\\Lib\\site-packages\n",
      "Requires: certifi, charset-normalizer, idna, urllib3\n",
      "Required-by: aext-assistant-server, anaconda-catalogs, anaconda-client, anaconda-cloud-auth, anaconda-project, conda, conda-build, conda-repo-cli, conda_package_streaming, cookiecutter, datashader, jupyterlab_server, panel, requests-file, requests-toolbelt, Sphinx, streamlit, tldextract\n",
      "Note: you may need to restart the kernel to use updated packages.\n"
     ]
    }
   ],
   "source": [
    "# requests 라이브러리 설치여부 확인\n",
    "%pip show requests"
   ]
  },
  {
   "cell_type": "code",
   "execution_count": 10,
   "id": "f7798ea8",
   "metadata": {},
   "outputs": [
    {
     "name": "stdout",
     "output_type": "stream",
     "text": [
      "Name: beautifulsoup4\n",
      "Version: 4.12.3\n",
      "Summary: Screen-scraping library\n",
      "Home-page: https://www.crummy.com/software/BeautifulSoup/bs4/\n",
      "Author: \n",
      "Author-email: Leonard Richardson <leonardr@segfault.org>\n",
      "License: MIT License\n",
      "Location: c:\\Users\\user\\anaconda3\\Lib\\site-packages\n",
      "Requires: soupsieve\n",
      "Required-by: conda-build, nbconvert\n",
      "Note: you may need to restart the kernel to use updated packages.\n"
     ]
    }
   ],
   "source": [
    "# beautifulsoup4 라이브러리 설치여부 확인\n",
    "%pip show beautifulsoup4\n"
   ]
  },
  {
   "cell_type": "code",
   "execution_count": 11,
   "id": "bf80a429",
   "metadata": {},
   "outputs": [],
   "source": [
    "# reqeusts, bs4 import\n",
    "import requests\n",
    "import bs4\n",
    "# BeautifulSoup 클래스 import\n",
    "from bs4 import BeautifulSoup"
   ]
  },
  {
   "cell_type": "code",
   "execution_count": 12,
   "id": "9788d6ac",
   "metadata": {},
   "outputs": [
    {
     "name": "stdout",
     "output_type": "stream",
     "text": [
      "requests 버전 2.32.3\n",
      "beautifulsoup4 버전 4.12.3\n"
     ]
    }
   ],
   "source": [
    "# requests, bs4 버전 확인하기\n",
    "print(f'requests 버전 {requests.__version__}')\n",
    "print(f'beautifulsoup4 버전 {bs4.__version__}')"
   ]
  },
  {
   "cell_type": "markdown",
   "id": "5941b664",
   "metadata": {},
   "source": []
  },
  {
   "cell_type": "markdown",
   "id": "ccb91def-cde3-4aeb-b0e5-2e7233500333",
   "metadata": {},
   "source": [
    "### 1. 뉴스 제목 추출하기"
   ]
  },
  {
   "cell_type": "code",
   "execution_count": 58,
   "id": "94c12fd6",
   "metadata": {},
   "outputs": [
    {
     "name": "stdout",
     "output_type": "stream",
     "text": [
      "https://news.naver.com/section/105\n",
      "<Response [200]>\n",
      "<class 'requests.models.Response'>\n",
      "200 True\n",
      "88\n",
      "<class 'bs4.element.ResultSet'>\n",
      "https://n.news.naver.com/mnews/article/003/0013172427 우주청, 트럼프 정부 출범 후 NASA 수장과 첫 회동…달 탐사 등 논의\n",
      "https://n.news.naver.com/mnews/article/comment/003/0013172427 \n",
      "https://n.news.naver.com/mnews/article/018/0005982967 KT, ‘지니TV 셋톱박스 4’ 레드닷 디자인 어워드 본상 수상\n",
      "https://n.news.naver.com/mnews/article/comment/018/0005982967 \n",
      "https://n.news.naver.com/mnews/article/018/0005982448 \"한국의 자율주행 개발 기업들과 더 많이 협력하겠다\"\n",
      "https://n.news.naver.com/mnews/article/comment/018/0005982448 \n",
      "https://n.news.naver.com/mnews/article/119/0002942667 환경부, AI 기술 적용 ‘동물 찻길 사고 예방 시스템’ 설치\n",
      "https://n.news.naver.com/mnews/article/comment/119/0002942667 \n",
      "https://n.news.naver.com/mnews/article/008/0005177691 SKT·대전창경 함께할 AI·로봇 스타트업 모여라…5월8일까지\n",
      "https://n.news.naver.com/mnews/article/comment/008/0005177691 \n",
      "https://n.news.naver.com/mnews/article/015/0005116865 \"아들이 좋아하겠네\"…게임 말리던 부모들도 꽂힌 의외의 장소 [영상]\n",
      "https://n.news.naver.com/mnews/article/comment/015/0005116865 \n",
      "https://n.news.naver.com/mnews/article/001/0015319110 센서타워 \"모바일 게임 시장, 신규 유저는 줄고 매출은 늘어\"\n",
      "https://n.news.naver.com/mnews/article/comment/001/0015319110 \n",
      "https://n.news.naver.com/mnews/article/003/0013171755 아이브·아이유 소속사 주인 바뀌나…카카오, 카카오엔터 매각 추진\n",
      "https://n.news.naver.com/mnews/article/comment/003/0013171755 \n",
      "https://n.news.naver.com/mnews/article/665/0000004808 트럼프가 애플에 날린 '재앙 청구서' [Global]\n",
      "https://n.news.naver.com/mnews/article/comment/665/0000004808 \n",
      "https://n.news.naver.com/mnews/article/092/0002369933 트럼프, ‘아이폰도 美서 생산' 판단…가능할까?\n",
      "https://n.news.naver.com/mnews/article/comment/092/0002369933 \n",
      "https://n.news.naver.com/mnews/article/023/0003898465 TSMC, 화웨이에 몰래 반도체 공급... 10억 달러 벌금 직면\n",
      "https://n.news.naver.com/mnews/article/comment/023/0003898465 \n",
      "https://n.news.naver.com/mnews/article/092/0002369931 유의종목 지정 위믹스, 해제 가능성은...\"신뢰회복 평가 중요\"\n",
      "https://n.news.naver.com/mnews/article/comment/092/0002369931 \n",
      "https://n.news.naver.com/mnews/article/092/0002369930 엔씨, 중화권-동남아 진출 성과에 주목...블소2에 리니지2M\n",
      "https://n.news.naver.com/mnews/article/comment/092/0002369930 \n",
      "https://n.news.naver.com/mnews/article/008/0005177924 \"소득 11% 올라 월 400만원 벌어요\"…라이더 웃게 한 배민\n",
      "https://n.news.naver.com/mnews/article/comment/008/0005177924 \n",
      "https://n.news.naver.com/mnews/article/421/0008181818 [100세건강] 군데군데 흰 반점 '백반증'…\"조기발견 중요, 불치 아냐\"\n",
      "https://n.news.naver.com/mnews/article/comment/421/0008181818 \n",
      "https://n.news.naver.com/mnews/article/092/0002369919 인도, BYD 시장 진입 제한…테슬라에만 문 열어\n",
      "https://n.news.naver.com/mnews/article/comment/092/0002369919 \n",
      "https://n.news.naver.com/mnews/article/092/0002369918 1~2월 전기차 시장 희비 엇갈려…BYD 웃고 테슬라 울다\n",
      "https://n.news.naver.com/mnews/article/comment/092/0002369918 \n",
      "https://n.news.naver.com/mnews/article/009/0005473213 애플 주가 급락…다시 ‘시총 1위’ 오른 마이크로소프트\n",
      "https://n.news.naver.com/mnews/article/comment/009/0005473213 \n",
      "https://n.news.naver.com/mnews/article/422/0000729313 \"캐릭터 얻어맞아 우울증\"…중국 게이머, 게임사 상대 소송\n",
      "https://n.news.naver.com/mnews/article/comment/422/0000729313 \n",
      "https://n.news.naver.com/mnews/article/030/0003301556 차세대 패키징 '칩렛' 지원하는 '광 반도체' 기술 나왔다\n",
      "https://n.news.naver.com/mnews/article/comment/030/0003301556 \n",
      "https://n.news.naver.com/mnews/article/028/0002739981 나사 위성이 촬영한 경북 산불의 상흔\n",
      "https://n.news.naver.com/mnews/article/comment/028/0002739981 \n",
      "https://n.news.naver.com/mnews/article/029/0002946878 네이버멤버십, 만족도 1위로 올라서…쿠팡와우 제쳤다\n",
      "https://n.news.naver.com/mnews/article/comment/029/0002946878 \n",
      "https://n.news.naver.com/mnews/article/422/0000729310 씨젠, PCR 100% 무인검사 기법 실물 미국 전시회서 공개\n",
      "https://n.news.naver.com/mnews/article/comment/422/0000729310 \n",
      "https://n.news.naver.com/mnews/article/001/0015319006 백준호 퓨리오사AI 대표 \"AI 인프라 지휘부, 혁신 경험 갖춰야\"\n",
      "https://n.news.naver.com/mnews/article/comment/001/0015319006 \n",
      "https://n.news.naver.com/mnews/article/031/0000923014 기세 오른 넷마블 'RF 온라인 넥스트'…4월부터 대규모 전쟁 콘텐츠 선보여\n",
      "https://n.news.naver.com/mnews/article/comment/031/0000923014 \n",
      "https://n.news.naver.com/mnews/article/092/0002369901 EU, 미 보복 관세 대상에서 버번 위스키·와인·유제품 제외\n",
      "https://n.news.naver.com/mnews/article/comment/092/0002369901 \n",
      "https://n.news.naver.com/mnews/article/015/0005116865 \"아들이 좋아하겠네\"…게임 말리던 부모들도 꽂힌 의외의 장소 [영상]\n",
      "https://n.news.naver.com/mnews/article/comment/015/0005116865 \n",
      "https://n.news.naver.com/mnews/article/001/0015318894 \"NHN 게임사업, 웹보드 넘어 미드코어·서브컬처로 성과 내겠다\"\n",
      "https://n.news.naver.com/mnews/article/comment/001/0015318894 \n",
      "https://n.news.naver.com/mnews/article/003/0013172294 '마비노기M' '카잔' 쌍끌이 흥행…넥슨 매출 7조 목표 순항?\n",
      "https://n.news.naver.com/mnews/article/comment/003/0013172294 \n",
      "https://n.news.naver.com/mnews/article/138/0002194298 \"예고 없는 공격 온다\" 신규 랜섬웨어 서비스 '반헬싱' 등장\n",
      "https://n.news.naver.com/mnews/article/comment/138/0002194298 \n",
      "https://n.news.naver.com/mnews/article/421/0008181527 보건의료노조 \"완전한 복귀 없이 내년 의대정원 동결 안돼\"\n",
      "https://n.news.naver.com/mnews/article/comment/421/0008181527 \n",
      "https://n.news.naver.com/mnews/article/092/0002369895 리플, 12억5천만 달러에 히든로드 인수 합의\n",
      "https://n.news.naver.com/mnews/article/comment/092/0002369895 \n",
      "https://n.news.naver.com/mnews/article/009/0005473176 끊이지 않는 스미싱에…과기부, 악성문자 발송 원천 차단 서비스 시범 운영\n",
      "https://n.news.naver.com/mnews/article/comment/009/0005473176 \n",
      "https://n.news.naver.com/mnews/article/036/0000051444 미세먼지 자욱할 때…마스크랑 친구 되면 괜찮을까?\n",
      "https://n.news.naver.com/mnews/article/comment/036/0000051444 \n",
      "https://n.news.naver.com/mnews/article/092/0002369890 [미장브리핑] MS, 애플 제치고 시총 1위…나스닥 4거래일 간 13%↓\n",
      "https://n.news.naver.com/mnews/article/comment/092/0002369890 \n",
      "https://n.news.naver.com/mnews/article/138/0002194296 “TSMC, 화웨이에 몰래 칩 공급했다”…美 10억달러 벌금 ‘엄포’\n",
      "https://n.news.naver.com/mnews/article/comment/138/0002194296 \n",
      "https://n.news.naver.com/mnews/article/138/0002194295 [PLAY IT] 마이크로닉스 ‘칼럭스’ 기계식 키보드…타건감 아이덴티티 챙겼다\n",
      "https://n.news.naver.com/mnews/article/comment/138/0002194295 \n",
      "https://n.news.naver.com/mnews/article/009/0005473163 “희귀암 치료제, 기존 약물서 찾는다”…AI로 숨겨진 효능 알아낸다는데\n",
      "https://n.news.naver.com/mnews/article/comment/009/0005473163 \n",
      "https://n.news.naver.com/mnews/article/008/0005177820 [IT썰] \"댓글 내용을 추천 검색어로\"…틱톡 잡겠다는 인스타그램\n",
      "https://n.news.naver.com/mnews/article/comment/008/0005177820 \n",
      "https://n.news.naver.com/mnews/article/031/0000922998 카카오, 카카오엔터테인먼트 매각 추진\n",
      "https://n.news.naver.com/mnews/article/comment/031/0000922998 \n",
      "https://n.news.naver.com/mnews/article/009/0005473152 전국민 ‘1인 1베프’ 시대가 온다...1000만 이용자 노린다는 ‘AI 조력자’\n",
      "https://n.news.naver.com/mnews/article/comment/009/0005473152 \n",
      "https://n.news.naver.com/mnews/article/009/0005473151 “당신한테는 이 옷이 어울려요”...갤럭시에 도입된 시각AI, 뭐길래\n",
      "https://n.news.naver.com/mnews/article/comment/009/0005473151 \n",
      "https://n.news.naver.com/mnews/article/023/0003898442 “머스크, 트럼프와 비공개 회담... 관세 정책 철회 호소했었다”\n",
      "https://n.news.naver.com/mnews/article/comment/023/0003898442 \n",
      "https://n.news.naver.com/mnews/article/011/0004471846 폭염 속에서도 1000시간 버티는 새로운 태양전지 나왔다\n",
      "https://n.news.naver.com/mnews/article/comment/011/0004471846 \n"
     ]
    }
   ],
   "source": [
    "# IT/과학 뉴스\n",
    "req_param = {\"sid\": 105}\n",
    "#\n",
    "url = \"https://news.naver.com/section/{sid}\".format(**req_param)\n",
    "print(url)\n",
    "\n",
    "# url2 = 'https://news.naver.com/section/105'\n",
    "\n",
    "# 요청 헤더 설정 : 브라우저 정보 (사람처럼 보이게 하려고 설정하는 것임)\n",
    "req_header = {\n",
    "    \"user-agent\": \"Mozilla/5.0 (Windows NT 10.0; Win64; x64) AppleWebKit/537.36 (KHTML, like Gecko) Chrome/104.0.0.0 Safari/537.36\"\n",
    "}\n",
    "\n",
    "# requests 의 get() 함수 호출하기\n",
    "res = requests.get(url, headers=req_header)\n",
    "print(res)\n",
    "print(type(res))\n",
    "print(res.status_code, res.ok)\n",
    "\n",
    "# 응답(response)이 OK 이면\n",
    "if res.ok:\n",
    "    # 응답 (response)에서 text 추출 - source 보기\n",
    "    html = res.text\n",
    "    # BeautifulSoup 객체 생성\n",
    "    soup = BeautifulSoup(html, \"html.parser\")\n",
    "    # print(soup)\n",
    "    # CSS 선택자\n",
    "    # <div class='sa_text'><a href=''></a></div>\n",
    "    print(len(soup.select(\"div.sa_text a[href*='mnews/article']\")))\n",
    "    a_tag_list = soup.select(\"div.sa_text a[href*='mnews/article']\")\n",
    "    print(\n",
    "        type(a_tag_list)\n",
    "    )  # [<a href=\"http://\">뉴스제목</a>] ResultSet객체 , <a></a> : Tag 객체\n",
    "    for a_tag in a_tag_list:\n",
    "        # print(type(a_tag))\n",
    "        title = a_tag.text.strip()\n",
    "        # href 속성의 값을 가져오기\n",
    "        link = a_tag[\"href\"]\n",
    "        print(link, title)\n",
    "else:\n",
    "    # 응답(response)이 Error 이면 status code 출력\n",
    "    print(f\"에러 코드 = {res.status_code}\")"
   ]
  },
  {
   "cell_type": "markdown",
   "id": "45640860-a449-4285-90d7-5f300292b461",
   "metadata": {},
   "source": [
    "### 1.1 뉴스제목 추출하는 함수 선언하기"
   ]
  },
  {
   "cell_type": "code",
   "execution_count": 60,
   "id": "9f2e4ef8",
   "metadata": {},
   "outputs": [
    {
     "name": "stdout",
     "output_type": "stream",
     "text": [
      "=====> https://news.naver.com/section/101 경제 뉴스 <=====\n",
      "<Response [200]>\n",
      "<class 'requests.models.Response'>\n",
      "200 True\n",
      "92\n",
      "<class 'bs4.element.ResultSet'>\n",
      "https://n.news.naver.com/mnews/article/055/0001247538 유상증자 규모 대폭 줄인다…'경영권 승계용' 논란에 후퇴\n",
      "https://n.news.naver.com/mnews/article/comment/055/0001247538 \n",
      "https://n.news.naver.com/mnews/article/648/0000035159 서울~부산 20분, '하이퍼튜브' 언제 올까?[교통시대]\n",
      "https://n.news.naver.com/mnews/article/comment/648/0000035159 \n",
      "https://n.news.naver.com/mnews/article/081/0003531979 환율, 장중 1480원대 후반까지 급등…금융위기 이후 최고\n",
      "https://n.news.naver.com/mnews/article/comment/081/0003531979 \n",
      "https://n.news.naver.com/mnews/article/005/0001768650 아워홈의 500자짜리 무성의 사과문[현장기자]\n",
      "https://n.news.naver.com/mnews/article/comment/005/0001768650 \n",
      "https://n.news.naver.com/mnews/article/008/0005177954 김병환 금융위원장 \"종투사, 모험자본·기업금융 적극 공급해야\"\n",
      "https://n.news.naver.com/mnews/article/comment/008/0005177954 \n",
      "https://n.news.naver.com/mnews/article/277/0005574935 강남구, 스타트업 투자유치 지원…30개사 글로벌 진출 돕는다\n",
      "https://n.news.naver.com/mnews/article/comment/277/0005574935 \n",
      "https://n.news.naver.com/mnews/article/018/0005982863 [속보]3월 취업자 수 19.3만명↑…건설업은 11개월 연속 감소\n",
      "https://n.news.naver.com/mnews/article/comment/018/0005982863 \n",
      "https://n.news.naver.com/mnews/article/016/0002454700 건설협회, 건설사들과 함께 추락사고 예방위한 릴레이 캠페인 나서\n",
      "https://n.news.naver.com/mnews/article/comment/016/0002454700 \n",
      "https://n.news.naver.com/mnews/article/003/0013172150 국제유가 4년 만에 최저치…WTI 배럴당 60달러 아래로\n",
      "https://n.news.naver.com/mnews/article/comment/003/0013172150 \n",
      "https://n.news.naver.com/mnews/article/029/0002946830 \"기대감은 물거품으로\"…뉴욕증시 다시투매, 나스닥 2%↓\n",
      "https://n.news.naver.com/mnews/article/comment/029/0002946830 \n",
      "https://n.news.naver.com/mnews/article/629/0000380445 김동원 한화생명 사장, 금융계열 '지배력' 우려…낮은 지분율 '흔들'\n",
      "https://n.news.naver.com/mnews/article/comment/629/0000380445 \n",
      "https://n.news.naver.com/mnews/article/023/0003898469 ‘트럼프발 관세 전쟁’에 국제유가 4년 만에 최저치로 폭락\n",
      "https://n.news.naver.com/mnews/article/comment/023/0003898469 \n",
      "https://n.news.naver.com/mnews/article/016/0002454755 “입금 먼저”vs“못 믿겠다”…홈플러스, 이번엔 입점업체와 기싸움\n",
      "https://n.news.naver.com/mnews/article/comment/016/0002454755 \n",
      "https://n.news.naver.com/mnews/article/629/0000380438 LNG, 친환경 선박 연료 시장 재탈환…K-조선 '훈풍'\n",
      "https://n.news.naver.com/mnews/article/comment/629/0000380438 \n",
      "https://n.news.naver.com/mnews/article/001/0015319357 에이비엘바이오 \"'그랩바디-B' 타깃 확장…추가 기술이전 추진\"\n",
      "https://n.news.naver.com/mnews/article/comment/001/0015319357 \n",
      "https://n.news.naver.com/mnews/article/648/0000035173 한국에도 골드만삭스 나올까?…금융당국, '종투사' 제도개선 착수\n",
      "https://n.news.naver.com/mnews/article/comment/648/0000035173 \n",
      "https://n.news.naver.com/mnews/article/629/0000380430 현대무벡스, 스크린도어 사업 글로벌 확장…현대그룹 미래 전략 잰걸음\n",
      "https://n.news.naver.com/mnews/article/comment/629/0000380430 \n",
      "https://n.news.naver.com/mnews/article/011/0004471975 “美·中 공세에 2차전지·석유화학·디스플레이 피해\"…LG그룹, 실적 둔화 우려\n",
      "https://n.news.naver.com/mnews/article/comment/011/0004471975 \n",
      "https://n.news.naver.com/mnews/article/024/0000096226 中도 참전했나...젤렌스키 “러軍서 중국인 2명 생포”\n",
      "https://n.news.naver.com/mnews/article/comment/024/0000096226 \n",
      "https://n.news.naver.com/mnews/article/215/0001205109 \"아뿔싸 이를 어쩌나\"…곳곳서 '비명'\n",
      "https://n.news.naver.com/mnews/article/comment/215/0001205109 \n",
      "https://n.news.naver.com/mnews/article/014/0005333371 1년만에 10배 성장 '커버드콜 ETF'...월배당 인기 지속\n",
      "https://n.news.naver.com/mnews/article/comment/014/0005333371 \n",
      "https://n.news.naver.com/mnews/article/018/0005983107 ‘KODEX 미국 환헷지 ETF’에 개인투자자 몰렸다\n",
      "https://n.news.naver.com/mnews/article/comment/018/0005983107 \n",
      "https://n.news.naver.com/mnews/article/215/0001205108 \"아들딸 유학비 어떡해\"…'맞불 관세'에 환율 1500원 '비상'\n",
      "https://n.news.naver.com/mnews/article/comment/215/0001205108 \n",
      "https://n.news.naver.com/mnews/article/018/0005983106 매출 200억→8000억...권기범 동국제약 회장의 30년\n",
      "https://n.news.naver.com/mnews/article/comment/018/0005983106 \n",
      "https://n.news.naver.com/mnews/article/016/0002454742 트럼프 관세 폭주에 서학개미 ‘피눈물’…닷새 만에 美 주식 보관액 15조 ‘뚝’ [투자360]\n",
      "https://n.news.naver.com/mnews/article/comment/016/0002454742 \n",
      "https://n.news.naver.com/mnews/article/243/0000076034 코스피 2,310선 후퇴…관세 불확실성에 외인·기관 '팔자'\n",
      "https://n.news.naver.com/mnews/article/comment/243/0000076034 \n",
      "https://n.news.naver.com/mnews/article/003/0013172670 \"당 대표 사퇴 선언\" 이재명 테마주 또 급등…상지건설, 6연상\n",
      "https://n.news.naver.com/mnews/article/comment/003/0013172670 \n",
      "https://n.news.naver.com/mnews/article/658/0000103343 '관세전쟁' 충격에 환율 1500원 초읽기\n",
      "https://n.news.naver.com/mnews/article/comment/658/0000103343 \n",
      "https://n.news.naver.com/mnews/article/008/0005177960 트럼프, 반도체 관세 최대 100% 예고…\"의약품도 조만간 발표\"\n",
      "https://n.news.naver.com/mnews/article/comment/008/0005177960 \n",
      "https://n.news.naver.com/mnews/article/016/0002454733 관세공포에 천장 뚫린 원/달러 환율…“1500원대 진입 가능성” [머니뭐니]\n",
      "https://n.news.naver.com/mnews/article/comment/016/0002454733 \n",
      "https://n.news.naver.com/mnews/article/018/0005983096 “미국의 관세, 중국을 다시 위대하게 만들고 있다”\n",
      "https://n.news.naver.com/mnews/article/comment/018/0005983096 \n",
      "https://n.news.naver.com/mnews/article/029/0002946902 부산도 분양가 고공행진… 올 봄, 내 집 마련 `골든타임`\n",
      "https://n.news.naver.com/mnews/article/comment/029/0002946902 \n",
      "https://n.news.naver.com/mnews/article/001/0015319258 서학개미, 3월 미국주식 투자 수익률 -2.8% '하락 전환'\n",
      "https://n.news.naver.com/mnews/article/comment/001/0015319258 \n",
      "https://n.news.naver.com/mnews/article/001/0015319255 '해킹 피해·상폐 위기' 위믹스, 투자자 간담회 개최\n",
      "https://n.news.naver.com/mnews/article/comment/001/0015319255 \n",
      "https://n.news.naver.com/mnews/article/015/0005116932 \"관세 폭탄에 민주당원 될 지경\"…美 CEO들 분노 폭발\n",
      "https://n.news.naver.com/mnews/article/comment/015/0005116932 \n",
      "https://n.news.naver.com/mnews/article/016/0002454731 ‘0%대 성장’ 우려 속 금리인하 언제…5월 대세 속 4월 선제론 고개 [머니뭐니]\n",
      "https://n.news.naver.com/mnews/article/comment/016/0002454731 \n",
      "https://n.news.naver.com/mnews/article/448/0000519390 원/달러 환율 1,500원 초읽기…금융위기 이후 최고\n",
      "https://n.news.naver.com/mnews/article/comment/448/0000519390 \n",
      "https://n.news.naver.com/mnews/article/015/0005116928 \"경동시장에 이런 곳이?\"…레트로 핫플 차지한 LG전자 AI\n",
      "https://n.news.naver.com/mnews/article/comment/015/0005116928 \n",
      "https://n.news.naver.com/mnews/article/030/0003301611 한화에어로, 폴란드서 역대 최대 규모 'K9 유저클럽' 개최\n",
      "https://n.news.naver.com/mnews/article/comment/030/0003301611 \n",
      "https://n.news.naver.com/mnews/article/009/0005473242 [속보] 환율 1500원 초읽기…미-중 관세전쟁 우려에 금융위기 이후 최고\n",
      "https://n.news.naver.com/mnews/article/comment/009/0005473242 \n",
      "https://n.news.naver.com/mnews/article/011/0004471966 토허구역 재지정에…서울 아파트 낙찰가율 2년 9개월만에 최고[집슐랭]\n",
      "https://n.news.naver.com/mnews/article/comment/011/0004471966 \n",
      "https://n.news.naver.com/mnews/article/022/0004026229 미국에 치이고 일본에도 밀리고…추락하는 원화 [뉴스+]\n",
      "https://n.news.naver.com/mnews/article/comment/022/0004026229 \n",
      "https://n.news.naver.com/mnews/article/001/0015319228 환율 1,500원 초읽기...관세전쟁 충격에 금융위기 이후 최고\n",
      "https://n.news.naver.com/mnews/article/comment/001/0015319228 \n",
      "https://n.news.naver.com/mnews/article/421/0008181899 철산주공8·9단지, 공사비 갈등 타결… 입주 정상 추진\n",
      "https://n.news.naver.com/mnews/article/comment/421/0008181899 \n",
      "https://n.news.naver.com/mnews/article/421/0008181896 美증시 중소기업 지수, 美침체 확률 79% 반영…S&P500은 62%\n",
      "https://n.news.naver.com/mnews/article/comment/421/0008181896 \n",
      "https://n.news.naver.com/mnews/article/119/0002943115 4대 금융지주 1분기 순이익 5조원 육박…역대급 기록 예고\n",
      "https://n.news.naver.com/mnews/article/comment/119/0002943115 \n"
     ]
    }
   ],
   "source": [
    "import requests\n",
    "from bs4 import BeautifulSoup\n",
    "\n",
    "section_dict = {\n",
    "    100: \"정치\",\n",
    "    101: \"경제\",\n",
    "    102: \"사회\",\n",
    "    103: \"생활/문화\",\n",
    "    104: \"세계\",\n",
    "    105: \"IT/과학\",\n",
    "}\n",
    "\n",
    "def print_news(sid):  # print_new(103)\n",
    "    section = section_dict[sid]\n",
    "    url = f\"https://news.naver.com/section/{sid}\"\n",
    "    print(f\"=====> {url} {section} 뉴스 <=====\")\n",
    "\n",
    "    # 요청 헤더 설정 : 브라우저 정보 (사람처럼 보이게 하려고 설정하는 것임)\n",
    "    req_header = {\n",
    "        \"user-agent\": \"Mozilla/5.0 (Windows NT 10.0; Win64; x64) AppleWebKit/537.36 (KHTML, like Gecko) Chrome/104.0.0.0 Safari/537.36\"\n",
    "    }\n",
    "\n",
    "    # requests 의 get() 함수 호출하기\n",
    "    res = requests.get(url, headers=req_header)\n",
    "    print(res)\n",
    "    print(type(res))\n",
    "    print(res.status_code, res.ok)\n",
    "\n",
    "    # 응답(response)이 OK 이면\n",
    "    if res.ok:\n",
    "        # 응답 (response)에서 text 추출 - source 보기\n",
    "        html = res.text\n",
    "        # BeautifulSoup 객체 생성\n",
    "        soup = BeautifulSoup(html, \"html.parser\")\n",
    "        \n",
    "        print(len(soup.select(\"div.sa_text a[href*='mnews/article']\")))\n",
    "        a_tag_list = soup.select(\"div.sa_text a[href*='mnews/article']\")    \n",
    "        print(type(a_tag_list))  # [<a href=\"http://\">뉴스제목</a>] ResultSet객체 , <a></a> : Tag 객체\n",
    "        \n",
    "        for a_tag in a_tag_list:\n",
    "            # print(type(a_tag))\n",
    "            title = a_tag.text.strip()\n",
    "            # href 속성의 값을 가져오기\n",
    "            link = a_tag[\"href\"]\n",
    "            print(link, title)\n",
    "    else:\n",
    "        # 응답(response)이 Error 이면 status code 출력\n",
    "        print(f\"에러 코드 = {res.status_code}\")\n",
    "\n",
    "# 함수호출\n",
    "print_news(101)"
   ]
  },
  {
   "cell_type": "code",
   "execution_count": 15,
   "id": "858952c6",
   "metadata": {},
   "outputs": [],
   "source": [
    "print_news(103,section_dict[103])"
   ]
  },
  {
   "cell_type": "markdown",
   "id": "323196dc",
   "metadata": {},
   "source": [
    "### 2. Image 다운로드\n",
    "* referer 요청 헤더를 반드시 설정해야 한다."
   ]
  },
  {
   "cell_type": "code",
   "execution_count": 67,
   "id": "c72d6cb1",
   "metadata": {},
   "outputs": [
    {
     "name": "stdout",
     "output_type": "stream",
     "text": [
      "Writing to 20220804112251_d97bd1e1b38f0cd022e4e3639d2926b3_IMAG01_1.jpg(299,319 bytes) \n",
      "Writing to 20220804112251_d97bd1e1b38f0cd022e4e3639d2926b3_IMAG01_2.jpg(163,333 bytes) \n",
      "Writing to 20220804112251_d97bd1e1b38f0cd022e4e3639d2926b3_IMAG01_3.jpg(182,530 bytes) \n"
     ]
    }
   ],
   "source": [
    "import requests\n",
    "import os\n",
    "\n",
    "req_header = {\n",
    "    'referer': 'https://comic.naver.com/webtoon/detail?titleId=798173&no=5&amp;weekday=thu'\n",
    "}\n",
    "\n",
    "img_urls = [\n",
    "    'https://image-comic.pstatic.net/webtoon/798173/5/20220804112251_d97bd1e1b38f0cd022e4e3639d2926b3_IMAG01_1.jpg',\n",
    "    'https://image-comic.pstatic.net/webtoon/798173/5/20220804112251_d97bd1e1b38f0cd022e4e3639d2926b3_IMAG01_2.jpg',\n",
    "    'https://image-comic.pstatic.net/webtoon/798173/5/20220804112251_d97bd1e1b38f0cd022e4e3639d2926b3_IMAG01_3.jpg'\n",
    "]\n",
    "\n",
    "for img_url in img_urls:\n",
    "    # requests 의 get(url, headers) 함수 호출하기 \n",
    "    res = requests.get(img_url, headers=req_header)\n",
    "    if res.ok:    \n",
    "        # binary 응답 데이터 가져오기 content 프로퍼티를 사용\n",
    "        img_data =res.content\n",
    "        # url에서 파일명만 추출하기\n",
    "        file_name = os.path.basename(img_url)\n",
    "        # binday data를 file에 write하기\n",
    "        with open(file_name,'wb') as file:\n",
    "            print(f'Writing to {file_name}({len(img_data):,} bytes) ')\n",
    "            file.write(img_data)"
   ]
  },
  {
   "cell_type": "markdown",
   "id": "e8b00a04",
   "metadata": {},
   "source": [
    "* 현재 요청된 페이지의 image 모두 다운로드 해보기"
   ]
  },
  {
   "cell_type": "code",
   "execution_count": 68,
   "id": "b30f7bf5",
   "metadata": {},
   "outputs": [
    {
     "name": "stdout",
     "output_type": "stream",
     "text": [
      "19\n",
      "71\n",
      "71\n",
      "19 ['https://image-comic.pstatic.net/webtoon/833255/35/20250107185236_7c4b279b6b7816fb2920b82077a98786_IMAG01_1.jpg', 'https://image-comic.pstatic.net/webtoon/833255/35/20250107185236_7c4b279b6b7816fb2920b82077a98786_IMAG01_2.jpg']\n",
      "writing to img\\20250107185236_7c4b279b6b7816fb2920b82077a98786_IMAG01_1.jpg(164,626 bytes)\n",
      "writing to img\\20250107185236_7c4b279b6b7816fb2920b82077a98786_IMAG01_2.jpg(90,246 bytes)\n",
      "writing to img\\20250107185236_7c4b279b6b7816fb2920b82077a98786_IMAG01_3.jpg(123,558 bytes)\n",
      "writing to img\\20250107185236_7c4b279b6b7816fb2920b82077a98786_IMAG01_4.jpg(144,941 bytes)\n",
      "writing to img\\20250107185236_7c4b279b6b7816fb2920b82077a98786_IMAG01_5.jpg(183,258 bytes)\n",
      "writing to img\\20250107185236_7c4b279b6b7816fb2920b82077a98786_IMAG01_6.jpg(148,153 bytes)\n",
      "writing to img\\20250107185236_7c4b279b6b7816fb2920b82077a98786_IMAG01_7.jpg(149,937 bytes)\n",
      "writing to img\\20250107185236_7c4b279b6b7816fb2920b82077a98786_IMAG01_8.jpg(83,666 bytes)\n",
      "writing to img\\20250107185236_7c4b279b6b7816fb2920b82077a98786_IMAG01_9.jpg(180,487 bytes)\n",
      "writing to img\\20250107185236_7c4b279b6b7816fb2920b82077a98786_IMAG01_10.jpg(119,614 bytes)\n",
      "writing to img\\20250107185236_7c4b279b6b7816fb2920b82077a98786_IMAG01_11.jpg(132,312 bytes)\n",
      "writing to img\\20250107185236_7c4b279b6b7816fb2920b82077a98786_IMAG01_12.jpg(136,409 bytes)\n",
      "writing to img\\20250107185236_7c4b279b6b7816fb2920b82077a98786_IMAG01_13.jpg(112,248 bytes)\n",
      "writing to img\\20250107185236_7c4b279b6b7816fb2920b82077a98786_IMAG01_14.jpg(159,837 bytes)\n",
      "writing to img\\20250107185236_7c4b279b6b7816fb2920b82077a98786_IMAG01_15.jpg(168,735 bytes)\n",
      "writing to img\\20250107185236_7c4b279b6b7816fb2920b82077a98786_IMAG01_16.jpg(73,730 bytes)\n",
      "writing to img\\20250107185236_7c4b279b6b7816fb2920b82077a98786_IMAG01_17.jpg(182,584 bytes)\n",
      "writing to img\\20250107185236_7c4b279b6b7816fb2920b82077a98786_IMAG01_18.jpg(86,921 bytes)\n",
      "writing to img\\20250107185236_7c4b279b6b7816fb2920b82077a98786_IMAG01_19.jpg(8,717 bytes)\n"
     ]
    }
   ],
   "source": [
    "import requests\n",
    "from bs4 import BeautifulSoup\n",
    "import os\n",
    "\n",
    "url = 'https://comic.naver.com/webtoon/detail?titleId=833255&no=35&week=tue'\n",
    "req_header = {\n",
    "    'referer': url\n",
    "}\n",
    "res = requests.get(url)\n",
    "if res.ok:\n",
    "    # jpg 파일의 절대경로 url를 찾기\n",
    "    soup = BeautifulSoup(res.text, 'html.parser')\n",
    "    print(len(soup.select(\"img[src*='IMAG01']\"))) #19\n",
    "    print(len(soup.select(\"img[src$='.jpg']\"))) #71\n",
    "    print(len(soup.select(\"img[src^='https://image-comic']\"))) #71\n",
    "    \n",
    "    img_tags = soup.select(\"img[src*='IMAG01']\")\n",
    "    # img src 를 저장할 list 선언\n",
    "    img_url_list = list() # ['aa.jpg','aa1.jpg']\n",
    "    for img_tag in img_tags:\n",
    "        #print(type(img_tag), img_tag.name, img_tag)\n",
    "        img_src = img_tag['src']\n",
    "        img_url_list.append(img_src)\n",
    "    print(len(img_url_list), img_url_list[:2]) \n",
    "    \n",
    "    #img 디렉토리가 없으면 생성하기   \n",
    "    imgdir_name = 'img'\n",
    "    if not os.path.isdir(imgdir_name):\n",
    "        os.mkdir(imgdir_name)\n",
    "        \n",
    "    #os.path.join(dir,file) 함수 사용하여 디렉토리명과 파일명 합치기\n",
    "    for img_url in img_url_list:\n",
    "        res = requests.get(img_url, headers=req_header)\n",
    "        if res.ok:        \n",
    "            # binary data 가져오기\n",
    "            img_data = res.content\n",
    "            # img/xxx.jpg 디렉토리명과 파일명을 join\n",
    "            dir_name = os.path.join(imgdir_name, os.path.basename(img_url))\n",
    "            # binday data를 file에 write하기\n",
    "            with open(dir_name,'wb') as file:\n",
    "                print(f'writing to {dir_name}({len(img_data):,} bytes)')\n",
    "                file.write(img_data)\n",
    "        else:\n",
    "            print(f'Error Code = {res.status_code}')      \n",
    "            \n",
    "else:\n",
    "    print(f'Error Code = {res.status_code}')"
   ]
  },
  {
   "cell_type": "markdown",
   "id": "2ac9f5f9",
   "metadata": {},
   "source": [
    "### 3. 파일 업로드 하기\n",
    "* http://httpbin.org/post 업로드 요청을 할 수 있는 url"
   ]
  },
  {
   "cell_type": "code",
   "execution_count": 69,
   "id": "04da4790",
   "metadata": {},
   "outputs": [
    {
     "ename": "FileNotFoundError",
     "evalue": "[Errno 2] No such file or directory: 'f1.jpg'",
     "output_type": "error",
     "traceback": [
      "\u001b[1;31m---------------------------------------------------------------------------\u001b[0m",
      "\u001b[1;31mFileNotFoundError\u001b[0m                         Traceback (most recent call last)",
      "Cell \u001b[1;32mIn[69], line 4\u001b[0m\n\u001b[0;32m      1\u001b[0m \u001b[38;5;28;01mimport\u001b[39;00m \u001b[38;5;21;01mrequests\u001b[39;00m\n\u001b[0;32m      3\u001b[0m upload_files \u001b[38;5;241m=\u001b[39m {\n\u001b[1;32m----> 4\u001b[0m     \u001b[38;5;124m'\u001b[39m\u001b[38;5;124mimg1\u001b[39m\u001b[38;5;124m'\u001b[39m: \u001b[38;5;28mopen\u001b[39m(\u001b[38;5;124m'\u001b[39m\u001b[38;5;124mf1.jpg\u001b[39m\u001b[38;5;124m'\u001b[39m,\u001b[38;5;124m'\u001b[39m\u001b[38;5;124mrb\u001b[39m\u001b[38;5;124m'\u001b[39m),\n\u001b[0;32m      5\u001b[0m     \u001b[38;5;124m'\u001b[39m\u001b[38;5;124mimg2\u001b[39m\u001b[38;5;124m'\u001b[39m: \u001b[38;5;28mopen\u001b[39m(\u001b[38;5;124m'\u001b[39m\u001b[38;5;124mf2.jpg\u001b[39m\u001b[38;5;124m'\u001b[39m,\u001b[38;5;124m'\u001b[39m\u001b[38;5;124mrb\u001b[39m\u001b[38;5;124m'\u001b[39m),\n\u001b[0;32m      6\u001b[0m }\n\u001b[0;32m      7\u001b[0m \u001b[38;5;28mprint\u001b[39m(upload_files)\n\u001b[0;32m      9\u001b[0m url \u001b[38;5;241m=\u001b[39m \u001b[38;5;124m'\u001b[39m\u001b[38;5;124mhttp://httpbin.org/post\u001b[39m\u001b[38;5;124m'\u001b[39m\n",
      "File \u001b[1;32mc:\\Users\\user\\anaconda3\\Lib\\site-packages\\IPython\\core\\interactiveshell.py:324\u001b[0m, in \u001b[0;36m_modified_open\u001b[1;34m(file, *args, **kwargs)\u001b[0m\n\u001b[0;32m    317\u001b[0m \u001b[38;5;28;01mif\u001b[39;00m file \u001b[38;5;129;01min\u001b[39;00m {\u001b[38;5;241m0\u001b[39m, \u001b[38;5;241m1\u001b[39m, \u001b[38;5;241m2\u001b[39m}:\n\u001b[0;32m    318\u001b[0m     \u001b[38;5;28;01mraise\u001b[39;00m \u001b[38;5;167;01mValueError\u001b[39;00m(\n\u001b[0;32m    319\u001b[0m         \u001b[38;5;124mf\u001b[39m\u001b[38;5;124m\"\u001b[39m\u001b[38;5;124mIPython won\u001b[39m\u001b[38;5;124m'\u001b[39m\u001b[38;5;124mt let you open fd=\u001b[39m\u001b[38;5;132;01m{\u001b[39;00mfile\u001b[38;5;132;01m}\u001b[39;00m\u001b[38;5;124m by default \u001b[39m\u001b[38;5;124m\"\u001b[39m\n\u001b[0;32m    320\u001b[0m         \u001b[38;5;124m\"\u001b[39m\u001b[38;5;124mas it is likely to crash IPython. If you know what you are doing, \u001b[39m\u001b[38;5;124m\"\u001b[39m\n\u001b[0;32m    321\u001b[0m         \u001b[38;5;124m\"\u001b[39m\u001b[38;5;124myou can use builtins\u001b[39m\u001b[38;5;124m'\u001b[39m\u001b[38;5;124m open.\u001b[39m\u001b[38;5;124m\"\u001b[39m\n\u001b[0;32m    322\u001b[0m     )\n\u001b[1;32m--> 324\u001b[0m \u001b[38;5;28;01mreturn\u001b[39;00m io_open(file, \u001b[38;5;241m*\u001b[39margs, \u001b[38;5;241m*\u001b[39m\u001b[38;5;241m*\u001b[39mkwargs)\n",
      "\u001b[1;31mFileNotFoundError\u001b[0m: [Errno 2] No such file or directory: 'f1.jpg'"
     ]
    }
   ],
   "source": [
    "import requests\n",
    "\n",
    "upload_files = {\n",
    "    'img1': open('f1.jpg','rb'),\n",
    "    'img2': open('f2.jpg','rb'),\n",
    "}\n",
    "print(upload_files)\n",
    "\n",
    "url = 'http://httpbin.org/post'\n",
    "# file 업로드 하려면 requests의 post 함수에 files 속성을 사용합니다.\n",
    "res = requests.post(url,files=upload_files)\n",
    "print(res.status_code)\n",
    "#print(res.json())\n",
    "print(res.json()['files']['img1'])"
   ]
  },
  {
   "cell_type": "markdown",
   "id": "7ad65f12",
   "metadata": {},
   "source": [
    "### 4. 캡챠(이미지) API 호출하기\n",
    "* urllib 사용\n",
    "* 1. 캡차 키 발급 요청\n",
    "  2. 캡차 이미지 요청\n",
    "  3. 사용자 입력값 검증 요청"
   ]
  },
  {
   "cell_type": "code",
   "execution_count": 64,
   "id": "bc4ae360-e772-4873-8642-d3494edd34e1",
   "metadata": {},
   "outputs": [
    {
     "ename": "HTTPError",
     "evalue": "HTTP Error 401: Unauthorized",
     "output_type": "error",
     "traceback": [
      "\u001b[1;31m---------------------------------------------------------------------------\u001b[0m",
      "\u001b[1;31mHTTPError\u001b[0m                                 Traceback (most recent call last)",
      "Cell \u001b[1;32mIn[64], line 12\u001b[0m\n\u001b[0;32m     10\u001b[0m request\u001b[38;5;241m.\u001b[39madd_header(\u001b[38;5;124m\"\u001b[39m\u001b[38;5;124mX-Naver-Client-Id\u001b[39m\u001b[38;5;124m\"\u001b[39m,client_id)\n\u001b[0;32m     11\u001b[0m request\u001b[38;5;241m.\u001b[39madd_header(\u001b[38;5;124m\"\u001b[39m\u001b[38;5;124mX-Naver-Client-Secret\u001b[39m\u001b[38;5;124m\"\u001b[39m,client_secret)\n\u001b[1;32m---> 12\u001b[0m response \u001b[38;5;241m=\u001b[39m urllib\u001b[38;5;241m.\u001b[39mrequest\u001b[38;5;241m.\u001b[39murlopen(request)\n\u001b[0;32m     13\u001b[0m rescode \u001b[38;5;241m=\u001b[39m response\u001b[38;5;241m.\u001b[39mgetcode()\n\u001b[0;32m     14\u001b[0m \u001b[38;5;28;01mif\u001b[39;00m(rescode\u001b[38;5;241m==\u001b[39m\u001b[38;5;241m200\u001b[39m):\n",
      "File \u001b[1;32mc:\\Users\\user\\anaconda3\\Lib\\urllib\\request.py:215\u001b[0m, in \u001b[0;36murlopen\u001b[1;34m(url, data, timeout, cafile, capath, cadefault, context)\u001b[0m\n\u001b[0;32m    213\u001b[0m \u001b[38;5;28;01melse\u001b[39;00m:\n\u001b[0;32m    214\u001b[0m     opener \u001b[38;5;241m=\u001b[39m _opener\n\u001b[1;32m--> 215\u001b[0m \u001b[38;5;28;01mreturn\u001b[39;00m opener\u001b[38;5;241m.\u001b[39mopen(url, data, timeout)\n",
      "File \u001b[1;32mc:\\Users\\user\\anaconda3\\Lib\\urllib\\request.py:521\u001b[0m, in \u001b[0;36mOpenerDirector.open\u001b[1;34m(self, fullurl, data, timeout)\u001b[0m\n\u001b[0;32m    519\u001b[0m \u001b[38;5;28;01mfor\u001b[39;00m processor \u001b[38;5;129;01min\u001b[39;00m \u001b[38;5;28mself\u001b[39m\u001b[38;5;241m.\u001b[39mprocess_response\u001b[38;5;241m.\u001b[39mget(protocol, []):\n\u001b[0;32m    520\u001b[0m     meth \u001b[38;5;241m=\u001b[39m \u001b[38;5;28mgetattr\u001b[39m(processor, meth_name)\n\u001b[1;32m--> 521\u001b[0m     response \u001b[38;5;241m=\u001b[39m meth(req, response)\n\u001b[0;32m    523\u001b[0m \u001b[38;5;28;01mreturn\u001b[39;00m response\n",
      "File \u001b[1;32mc:\\Users\\user\\anaconda3\\Lib\\urllib\\request.py:630\u001b[0m, in \u001b[0;36mHTTPErrorProcessor.http_response\u001b[1;34m(self, request, response)\u001b[0m\n\u001b[0;32m    627\u001b[0m \u001b[38;5;66;03m# According to RFC 2616, \"2xx\" code indicates that the client's\u001b[39;00m\n\u001b[0;32m    628\u001b[0m \u001b[38;5;66;03m# request was successfully received, understood, and accepted.\u001b[39;00m\n\u001b[0;32m    629\u001b[0m \u001b[38;5;28;01mif\u001b[39;00m \u001b[38;5;129;01mnot\u001b[39;00m (\u001b[38;5;241m200\u001b[39m \u001b[38;5;241m<\u001b[39m\u001b[38;5;241m=\u001b[39m code \u001b[38;5;241m<\u001b[39m \u001b[38;5;241m300\u001b[39m):\n\u001b[1;32m--> 630\u001b[0m     response \u001b[38;5;241m=\u001b[39m \u001b[38;5;28mself\u001b[39m\u001b[38;5;241m.\u001b[39mparent\u001b[38;5;241m.\u001b[39merror(\n\u001b[0;32m    631\u001b[0m         \u001b[38;5;124m'\u001b[39m\u001b[38;5;124mhttp\u001b[39m\u001b[38;5;124m'\u001b[39m, request, response, code, msg, hdrs)\n\u001b[0;32m    633\u001b[0m \u001b[38;5;28;01mreturn\u001b[39;00m response\n",
      "File \u001b[1;32mc:\\Users\\user\\anaconda3\\Lib\\urllib\\request.py:559\u001b[0m, in \u001b[0;36mOpenerDirector.error\u001b[1;34m(self, proto, *args)\u001b[0m\n\u001b[0;32m    557\u001b[0m \u001b[38;5;28;01mif\u001b[39;00m http_err:\n\u001b[0;32m    558\u001b[0m     args \u001b[38;5;241m=\u001b[39m (\u001b[38;5;28mdict\u001b[39m, \u001b[38;5;124m'\u001b[39m\u001b[38;5;124mdefault\u001b[39m\u001b[38;5;124m'\u001b[39m, \u001b[38;5;124m'\u001b[39m\u001b[38;5;124mhttp_error_default\u001b[39m\u001b[38;5;124m'\u001b[39m) \u001b[38;5;241m+\u001b[39m orig_args\n\u001b[1;32m--> 559\u001b[0m     \u001b[38;5;28;01mreturn\u001b[39;00m \u001b[38;5;28mself\u001b[39m\u001b[38;5;241m.\u001b[39m_call_chain(\u001b[38;5;241m*\u001b[39margs)\n",
      "File \u001b[1;32mc:\\Users\\user\\anaconda3\\Lib\\urllib\\request.py:492\u001b[0m, in \u001b[0;36mOpenerDirector._call_chain\u001b[1;34m(self, chain, kind, meth_name, *args)\u001b[0m\n\u001b[0;32m    490\u001b[0m \u001b[38;5;28;01mfor\u001b[39;00m handler \u001b[38;5;129;01min\u001b[39;00m handlers:\n\u001b[0;32m    491\u001b[0m     func \u001b[38;5;241m=\u001b[39m \u001b[38;5;28mgetattr\u001b[39m(handler, meth_name)\n\u001b[1;32m--> 492\u001b[0m     result \u001b[38;5;241m=\u001b[39m func(\u001b[38;5;241m*\u001b[39margs)\n\u001b[0;32m    493\u001b[0m     \u001b[38;5;28;01mif\u001b[39;00m result \u001b[38;5;129;01mis\u001b[39;00m \u001b[38;5;129;01mnot\u001b[39;00m \u001b[38;5;28;01mNone\u001b[39;00m:\n\u001b[0;32m    494\u001b[0m         \u001b[38;5;28;01mreturn\u001b[39;00m result\n",
      "File \u001b[1;32mc:\\Users\\user\\anaconda3\\Lib\\urllib\\request.py:639\u001b[0m, in \u001b[0;36mHTTPDefaultErrorHandler.http_error_default\u001b[1;34m(self, req, fp, code, msg, hdrs)\u001b[0m\n\u001b[0;32m    638\u001b[0m \u001b[38;5;28;01mdef\u001b[39;00m \u001b[38;5;21mhttp_error_default\u001b[39m(\u001b[38;5;28mself\u001b[39m, req, fp, code, msg, hdrs):\n\u001b[1;32m--> 639\u001b[0m     \u001b[38;5;28;01mraise\u001b[39;00m HTTPError(req\u001b[38;5;241m.\u001b[39mfull_url, code, msg, hdrs, fp)\n",
      "\u001b[1;31mHTTPError\u001b[0m: HTTP Error 401: Unauthorized"
     ]
    }
   ],
   "source": [
    "# 캡차 키 발급 요청\n",
    "import urllib.request\n",
    "\n",
    "client_id = \"\" # 개발자센터에서 발급받은 Client ID 값\n",
    "client_secret = \"\" # 개발자센터에서 발급받은 Client Secret 값\n",
    "code = \"0\"\n",
    "url = \"https://openapi.naver.com/v1/captcha/nkey?code=\" + code\n",
    "# Request 객체생성성\n",
    "request = urllib.request.Request(url)\n",
    "\n",
    "#요청 헤더 설정\n",
    "request.add_header(\"X-Naver-Client-Id\",client_id)\n",
    "request.add_header(\"X-Naver-Client-Secret\",client_secret)\n",
    "\n",
    "# 요청 보내기\n",
    "response = urllib.request.urlopen(request)\n",
    "\n",
    "# 응답 코드 가져오기기\n",
    "rescode = response.getcode()\n",
    "if(rescode==200):\n",
    "    response_body = response.read()\n",
    "    print(response_body.decode('utf-8'))\n",
    "else:\n",
    "    print(\"Error Code:\" + rescode)"
   ]
  },
  {
   "cell_type": "code",
   "execution_count": 62,
   "id": "7b95b6a0-c218-4792-82a6-da4d80872071",
   "metadata": {},
   "outputs": [
    {
     "name": "stdout",
     "output_type": "stream",
     "text": [
      "캡차 이미지 저장\n"
     ]
    }
   ],
   "source": [
    "# 캡차 이미지 요청\n",
    "# 캡차 이미지 요청\n",
    "import urllib.request\n",
    "\n",
    "client_id = \"\" # 개발자센터에서 발급받은 Client ID 값\n",
    "client_secret = \"\" # 개발자센터에서 발급받은 Client Secret 값\n",
    "key = \"\" # 캡차 Key 값\n",
    "\n",
    "url = \"https://openapi.naver.com/v1/captcha/ncaptcha.bin?key=\" + key\n",
    "request = urllib.request.Request(url)\n",
    "request.add_header(\"X-Naver-Client-Id\",client_id)\n",
    "request.add_header(\"X-Naver-Client-Secret\",client_secret)\n",
    "response = urllib.request.urlopen(request)\n",
    "rescode = response.getcode()\n",
    "if(rescode==200):\n",
    "    print(\"캡차 이미지 저장\")\n",
    "    response_body = response.read()\n",
    "    with open('captcha.jpg', 'wb') as f:\n",
    "        f.write(response_body)\n",
    "else:\n",
    "    print(\"Error Code:\" + rescode)"
   ]
  },
  {
   "cell_type": "code",
   "execution_count": 63,
   "id": "a79076af-2cd0-4de2-8301-316b9130c55e",
   "metadata": {},
   "outputs": [
    {
     "name": "stdout",
     "output_type": "stream",
     "text": [
      "{\"result\":true,\"responseTime\":132.75}\n"
     ]
    }
   ],
   "source": [
    "# 사용자 입력값 검증 요청\n",
    "import urllib.request\n",
    "\n",
    "client_id = \"\" # 개발자센터에서 발급받은 Client ID 값\n",
    "client_secret = \"\" # 개발자센터에서 발급받은 Client Secret 값\n",
    "key = \"\" # 캡차 Key 값\n",
    "\n",
    "code = \"1\"\n",
    "value = \"X19L3K\"\n",
    "url = \"https://openapi.naver.com/v1/captcha/nkey?code=\" + code + \"&key=\" + key + \"&value=\" + value\n",
    "request = urllib.request.Request(url)\n",
    "request.add_header(\"X-Naver-Client-Id\",client_id)\n",
    "request.add_header(\"X-Naver-Client-Secret\",client_secret)\n",
    "response = urllib.request.urlopen(request)\n",
    "rescode = response.getcode()\n",
    "if(rescode==200):\n",
    "    response_body = response.read()\n",
    "    print(response_body.decode('utf-8'))\n",
    "else:\n",
    "    print(\"Error Code:\" + rescode)"
   ]
  },
  {
   "cell_type": "markdown",
   "id": "b7d984a6",
   "metadata": {},
   "source": [
    "* requests를 사용하는 코드로 변경하기\n",
    "* [requests docs](https://requests.readthedocs.io/en/latest/user/quickstart/)"
   ]
  },
  {
   "cell_type": "code",
   "execution_count": null,
   "id": "727b427b",
   "metadata": {
    "scrolled": true
   },
   "outputs": [],
   "source": [
    "# 사용자 입력값 검증 요청\n",
    "%pip show python-dotenv\n"
   ]
  },
  {
   "cell_type": "markdown",
   "id": "d5e1179a",
   "metadata": {},
   "source": [
    "### 5. 블로그 검색하기"
   ]
  },
  {
   "cell_type": "code",
   "execution_count": 70,
   "id": "877d0c7f",
   "metadata": {},
   "outputs": [
    {
     "ename": "KeyError",
     "evalue": "'items'",
     "output_type": "error",
     "traceback": [
      "\u001b[1;31m---------------------------------------------------------------------------\u001b[0m",
      "\u001b[1;31mKeyError\u001b[0m                                  Traceback (most recent call last)",
      "Cell \u001b[1;32mIn[70], line 29\u001b[0m\n\u001b[0;32m     27\u001b[0m \u001b[38;5;66;03m# requests get(url, params, headers) 요청 \u001b[39;00m\n\u001b[0;32m     28\u001b[0m res \u001b[38;5;241m=\u001b[39m requests\u001b[38;5;241m.\u001b[39mget(url, params\u001b[38;5;241m=\u001b[39mpayload, headers\u001b[38;5;241m=\u001b[39mheaders)\n\u001b[1;32m---> 29\u001b[0m items_data \u001b[38;5;241m=\u001b[39m res\u001b[38;5;241m.\u001b[39mjson()[\u001b[38;5;124m'\u001b[39m\u001b[38;5;124mitems\u001b[39m\u001b[38;5;124m'\u001b[39m]\n\u001b[0;32m     31\u001b[0m \u001b[38;5;66;03m#print(items_data)\u001b[39;00m\n\u001b[0;32m     32\u001b[0m \u001b[38;5;66;03m# json() 함수로 응답 결과 가져오기\u001b[39;00m\n\u001b[0;32m     33\u001b[0m \u001b[38;5;66;03m# 'title' , 'bloggername' , 'description' , 'bloggerlink' , 'link'\u001b[39;00m\n\u001b[0;32m     34\u001b[0m items_list \u001b[38;5;241m=\u001b[39m \u001b[38;5;28mlist\u001b[39m()\n",
      "\u001b[1;31mKeyError\u001b[0m: 'items'"
     ]
    }
   ],
   "source": [
    "import requests\n",
    "import pprint\n",
    "import os\n",
    "from dotenv import load_dotenv\n",
    "\n",
    "# .env 파일에서 환경 변수 로드\n",
    "load_dotenv()\n",
    "\n",
    "# 환경 변수에서 값 읽기\n",
    "client_id = os.getenv(\"NAVER_CLIENT_ID\")  # .env 파일의 NAVER_CLIENT_ID\n",
    "client_secret = os.getenv(\"NAVER_CLIENT_SECRET\")  # .env 파일의 NAVER_CLIENT_SECRET\n",
    "\n",
    "headers = {\n",
    "    'X-Naver-Client-Id': client_id,\n",
    "    'X-Naver-Client-Secret': client_secret,\n",
    "}\n",
    "\n",
    "payload = {\n",
    "    'query': '파이썬',\n",
    "    'display': 100,\n",
    "    'sort': 'sim'\n",
    "}\n",
    "\n",
    "url = 'https://openapi.naver.com/v1/search/blog.json'\n",
    "\n",
    "\n",
    "# requests get(url, params, headers) 요청 \n",
    "res = requests.get(url, params=payload, headers=headers)\n",
    "items_data = res.json()['items']\n",
    "\n",
    "#print(items_data)\n",
    "# json() 함수로 응답 결과 가져오기\n",
    "# 'title' , 'bloggername' , 'description' , 'bloggerlink' , 'link'\n",
    "items_list = list()\n",
    "item_list = []\n",
    "for item in items_data:\n",
    "#     print(item)\n",
    "    item_list.append(item['title'])\n",
    "    item_list.append(item['bloggername'])\n",
    "    item_list.append(item['description'])\n",
    "    item_list.append(item['bloggerlink'])\n",
    "    item_list.append(item['link'])\n",
    "\n",
    "    items_list.append(item_list)\n",
    "    item_list = []\n",
    "\n",
    "print(items_list)\n",
    "\n",
    "# 'data/nhnblog.txt' 파일 생성하기\n",
    "with open('data/nhnblog.txt','w',encoding=\"utf-8\")as file:\n",
    "    for items in items_list:\n",
    "        for item in items:\n",
    "            item = item + '\\n'\n",
    "            file.write(item)\n",
    "        file.write('-'*150+'\\n')"
   ]
  }
 ],
 "metadata": {
  "kernelspec": {
   "display_name": "base",
   "language": "python",
   "name": "python3"
  },
  "language_info": {
   "codemirror_mode": {
    "name": "ipython",
    "version": 3
   },
   "file_extension": ".py",
   "mimetype": "text/x-python",
   "name": "python",
   "nbconvert_exporter": "python",
   "pygments_lexer": "ipython3",
   "version": "3.12.7"
  }
 },
 "nbformat": 4,
 "nbformat_minor": 5
}
