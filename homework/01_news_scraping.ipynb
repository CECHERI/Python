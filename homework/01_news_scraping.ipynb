{
 "cells": [
  {
   "cell_type": "code",
   "execution_count": 4,
   "metadata": {},
   "outputs": [],
   "source": [
    "import requests\n",
    "from bs4 import BeautifulSoup"
   ]
  },
  {
   "cell_type": "code",
   "execution_count": 12,
   "metadata": {},
   "outputs": [
    {
     "name": "stdout",
     "output_type": "stream",
     "text": [
      "https://news.daum.net/economy/\n",
      "<class 'requests.models.Response'>\n",
      "200\n",
      "<class 'bs4.element.ResultSet'> 9\n",
      "https://n.news.naver.com/mnews/article/comment/417/0001069560\n",
      "“경영 노하우 공유하는 특별한 경험”…매일경제-성남상의, 제7기 최고경영자과정 입학식\n",
      "https://n.news.naver.com/mnews/article/comment/417/0001069560\n",
      "가성비로 무장한 단체, 다시 제주로 간다” 수학여행부터 대만 인센티브까지.. ‘단체관광’이 살리는 제주\n",
      "https://n.news.naver.com/mnews/article/comment/417/0001069560\n",
      "부동산 경기 활성화와 가계 부채 억제 사이, 새 정부 선택은?[정준호의 부동산과 사회경제]\n",
      "https://n.news.naver.com/mnews/article/comment/417/0001069560\n",
      "‘관세 직격탄’ 애플 주가 19% ‘뚝’… 갈수록 커지는 ‘T공포’ [관세전쟁 후폭풍]\n",
      "https://n.news.naver.com/mnews/article/comment/417/0001069560\n",
      "미·중 치킨게임…원화값 1473원대 추락, 글로벌 금융위기 후 최저\n",
      "https://n.news.naver.com/mnews/article/comment/417/0001069560\n",
      "美·中 관세 폭탄 돌리기…‘새우등’ 한국 경제 불안감 더 커졌다\n",
      "https://n.news.naver.com/mnews/article/comment/417/0001069560\n",
      "나랏빚 1175조 '역대 최대'…추경 재원 바닥\n",
      "https://n.news.naver.com/mnews/article/comment/417/0001069560\n",
      "메디젠휴먼케어, \"23andMe 파산..한국 유전체 산업의 위기 아닌 기회\"\n",
      "https://n.news.naver.com/mnews/article/comment/417/0001069560\n",
      "칩 확보서 데이터센터까지···전 산업에 'AI 고속도로' 깔아야\n"
     ]
    }
   ],
   "source": [
    "#과제\n",
    "url = \"https://news.daum.net/economy/\"\n",
    "print(url)\n",
    "\n",
    "# 요청 헤더 설정 : 브라우저 정보 (사람처럼 보이게 하려고 설정하는 것임)\n",
    "req_header = {\n",
    "    \"user-agent\": \"Mozilla/5.0 (Windows NT 10.0; Win64; x64) AppleWebKit/537.36 (KHTML, like Gecko) Chrome/134.0.0.0 Safari/537.36\"\n",
    "}\n",
    "\n",
    "# requests 의 get() 함수 호출하기\n",
    "res = requests.get(url, headers=req_header)\n",
    "res.encoding = 'utf-8'\n",
    "\n",
    "print(type(res))\n",
    "print(res.status_code)\n",
    "\n",
    "# 응답(response)이 OK 이면\n",
    "if res.ok:\n",
    "    # 응답 (response)에서 text 추출 - source 보기\n",
    "    html = res.text\n",
    "    soup = BeautifulSoup(html, \"html.parser\")\n",
    "\n",
    "    news_items = soup.select('ul.list_newsheadline2 li')\n",
    "\n",
    "    print(\n",
    "        type(news_items),\n",
    "        len(soup.select(\"ul.list_newsheadline2 li\"))\n",
    "    )\n",
    "\n",
    "    for li_tag in news_items:\n",
    "        if a_tag:\n",
    "            link = a_tag['href']  \n",
    "\n",
    "        strong_tag = li_tag.select_one('div.cont_thumb strong.tit_txt')\n",
    "        if strong_tag:\n",
    "            title = strong_tag.text.strip()\n",
    "            print(link)\n",
    "            print(title)\n",
    "else:\n",
    "    # 응답(response)이 Error 이면 status code 출력\n",
    "    print(f\"에러 코드 = {res.status_code}\")\n"
   ]
  }
 ],
 "metadata": {
  "kernelspec": {
   "display_name": "base",
   "language": "python",
   "name": "python3"
  },
  "language_info": {
   "codemirror_mode": {
    "name": "ipython",
    "version": 3
   },
   "file_extension": ".py",
   "mimetype": "text/x-python",
   "name": "python",
   "nbconvert_exporter": "python",
   "pygments_lexer": "ipython3",
   "version": "3.12.7"
  }
 },
 "nbformat": 4,
 "nbformat_minor": 2
}
