{
 "cells": [
  {
   "cell_type": "code",
   "execution_count": 3,
   "metadata": {},
   "outputs": [],
   "source": [
    "import requests\n",
    "from bs4 import BeautifulSoup"
   ]
  },
  {
   "cell_type": "code",
   "execution_count": null,
   "metadata": {},
   "outputs": [],
   "source": [
    "# 섹션 이름과 영문 코드 매핑\n",
    "section_dict = {\n",
    "    '기후/환경': 'climate',\n",
    "    '사회': 'society',\n",
    "    '경제': 'economy',\n",
    "    '정치': 'politics',\n",
    "    '국재': 'world',\n",
    "    '문화': 'culture',\n",
    "    '생활': 'life',\n",
    "    'IT/과학': 'tech',\n",
    "    '인물': 'people'\n",
    "}"
   ]
  },
  {
   "cell_type": "code",
   "execution_count": 41,
   "metadata": {},
   "outputs": [],
   "source": [
    "# 섹션 딕셔너리\n",
    "section_dict = {\n",
    "    '기후/환경': 'climate',\n",
    "    '사회': 'society',\n",
    "    '경제': 'economic',  # ✅ 'economy' 아님. Daum은 'economic' 사용!\n",
    "    '정치': 'politics',\n",
    "    '국재': 'world',\n",
    "    '문화': 'culture',\n",
    "    '생활': 'life',\n",
    "    'IT/과학': 'digital',\n",
    "    '인물': 'people'\n",
    "}\n",
    "\n",
    "import requests\n",
    "from bs4 import BeautifulSoup\n",
    "\n",
    "def print_news(section_name):\n",
    "    if section_name not in section_dict:\n",
    "        print(f\"'{section_name}'은(는) 유효하지 않은 섹션입니다.\")\n",
    "        return\n",
    "\n",
    "    section_code = section_dict[section_name]\n",
    "    url = f\"https://news.daum.net/{section_code}\"\n",
    "\n",
    "    req_header = {\n",
    "        \"user-agent\": \"Mozilla/5.0 (Windows NT 10.0; Win64; x64) AppleWebKit/537.36 (KHTML, like Gecko) Chrome/134.0.0.0 Safari/537.36\"\n",
    "    }\n",
    "\n",
    "    res = requests.get(url, headers=req_header)\n",
    "    res.encoding = 'utf-8'\n",
    "\n",
    "    if res.ok:\n",
    "        html = res.text\n",
    "        soup = BeautifulSoup(html, \"html.parser\")\n",
    "\n",
    "        news_items = soup.select('ul.list_newsheadline2 li')\n",
    "\n",
    "        print(f\"print_news('{section_name}')\")\n",
    "        print(f\"======> {url} {section_name} 뉴스 <======\")\n",
    "\n",
    "        for li_tag in news_items:\n",
    "            a_tag = li_tag.find('a')\n",
    "            strong_tag = li_tag.select_one('div.cont_thumb strong.tit_txt')\n",
    "            \n",
    "            if a_tag and strong_tag:\n",
    "                link = a_tag['href']\n",
    "                title = strong_tag.text.strip()\n",
    "                print(link)\n",
    "                print(title)\n",
    "            else:\n",
    "                print(\"error\")\n",
    "    else:\n",
    "        print(f\"에러 코드 = {res.status_code}\")\n"
   ]
  },
  {
   "cell_type": "code",
   "execution_count": 43,
   "metadata": {},
   "outputs": [
    {
     "name": "stdout",
     "output_type": "stream",
     "text": [
      "print_news('경제')\n",
      "======> https://news.daum.net/economic 경제 뉴스 <======\n",
      "https://v.daum.net/v/20250408210600644\n",
      "“경영 노하우 공유하는 특별한 경험”…매일경제-성남상의, 제7기 최고경영자과정 입학식\n",
      "https://v.daum.net/v/20250408205853462\n",
      "가성비로 무장한 단체, 다시 제주로 간다” 수학여행부터 대만 인센티브까지.. ‘단체관광’이 살리는 제주\n",
      "https://v.daum.net/v/20250408204335126\n",
      "부동산 경기 활성화와 가계 부채 억제 사이, 새 정부 선택은?[정준호의 부동산과 사회경제]\n",
      "https://v.daum.net/v/20250408184905360\n",
      "‘관세 직격탄’ 애플 주가 19% ‘뚝’… 갈수록 커지는 ‘T공포’ [관세전쟁 후폭풍]\n",
      "https://v.daum.net/v/20250408183514025\n",
      "미·중 치킨게임…원화값 1473원대 추락, 글로벌 금융위기 후 최저\n",
      "https://v.daum.net/v/20250408175343664\n",
      "美·中 관세 폭탄 돌리기…‘새우등’ 한국 경제 불안감 더 커졌다\n",
      "https://v.daum.net/v/20250408175111585\n",
      "나랏빚 1175조 '역대 최대'…추경 재원 바닥\n",
      "https://v.daum.net/v/20250408174344325\n",
      "메디젠휴먼케어, \"23andMe 파산..한국 유전체 산업의 위기 아닌 기회\"\n",
      "https://v.daum.net/v/20250408173713085\n",
      "칩 확보서 데이터센터까지···전 산업에 'AI 고속도로' 깔아야\n",
      "\n",
      "print_news('사회')\n",
      "======> https://news.daum.net/society 사회 뉴스 <======\n",
      "https://v.daum.net/v/20250408212407100\n",
      "70대 돌보는 60대…\"사람이 없다\" 악순환 늪 빠진 요양원\n",
      "https://v.daum.net/v/20250408205753443\n",
      "[단독]소액절도 5년새 2배로…“생계형 많지만 청소년 일탈도 늘어”\n",
      "https://v.daum.net/v/20250408204212113\n",
      "[단독] 가전 계약 따로, 배송 따로…100명 당한 신종 사기\n",
      "https://v.daum.net/v/20250408204010065\n",
      "[단독] 서울 '땅 꺼짐' 고위험지역 50곳 더 있다‥우리 동네는 어디?\n",
      "https://v.daum.net/v/20250408201012346\n",
      "'여야 합의' 이태원참사특조위도 제자리걸음‥사무처장 임명 계속 미뤄\n",
      "https://v.daum.net/v/20250408200507234\n",
      "호남동행? 서진정책?.. 스스로 고립된 '국민의힘'\n",
      "https://v.daum.net/v/20250408200117165\n",
      "무속인? 고문? 정치브로커?…'건진법사' 그의 정체는 대체\n",
      "https://v.daum.net/v/20250408195302896\n",
      "전자발찌 효과로 성폭력 재범률 감소...대상자 느는데 인력은 여전히 부족\n",
      "https://v.daum.net/v/20250408193850514\n",
      "전기요금 더 깎아달라는 교육감들…“기후 대응 역행” 비판도\n"
     ]
    }
   ],
   "source": [
    "# 함수 호출\n",
    "print_news('경제')\n",
    "print()\n",
    "print_news('사회')"
   ]
  }
 ],
 "metadata": {
  "kernelspec": {
   "display_name": "base",
   "language": "python",
   "name": "python3"
  },
  "language_info": {
   "codemirror_mode": {
    "name": "ipython",
    "version": 3
   },
   "file_extension": ".py",
   "mimetype": "text/x-python",
   "name": "python",
   "nbconvert_exporter": "python",
   "pygments_lexer": "ipython3",
   "version": "3.12.7"
  }
 },
 "nbformat": 4,
 "nbformat_minor": 2
}
